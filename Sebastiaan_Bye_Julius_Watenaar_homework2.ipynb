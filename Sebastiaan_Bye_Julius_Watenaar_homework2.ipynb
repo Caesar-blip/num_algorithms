{
 "cells": [
  {
   "cell_type": "markdown",
   "metadata": {},
   "source": [
    "# Homework Set 2"
   ]
  },
  {
   "cell_type": "markdown",
   "metadata": {},
   "source": [
    "# Exercise 0\n",
    "Julius Wantenaar 11339055\n",
    "\n",
    "Sebastiaan Bye 14084880\n"
   ]
  },
  {
   "cell_type": "code",
   "execution_count": 3,
   "metadata": {},
   "outputs": [],
   "source": [
    "import numpy as np\n",
    "import scipy.linalg as la\n",
    "import matplotlib.pyplot as plt\n",
    "import random"
   ]
  },
  {
   "cell_type": "markdown",
   "metadata": {},
   "source": [
    "# Exercise 1\n",
    "\n",
    "The goal of this problem is to show that apparently harmless looking systems of linear equations may be very difficult to solve. Some functions that may be useful are `numpy.triu`, `numpy.tril`, `numpy.eye`, `random.randrange`.\n",
    "## (a)\n",
    "Generate an $n \\times n$ matrix $B$ with random integer elements in the range\n",
    "$b_{ij} \\in [-10, 10]$. Choose for instance $n=20$."
   ]
  },
  {
   "cell_type": "code",
   "execution_count": 4,
   "metadata": {},
   "outputs": [],
   "source": [
    "n = 20\n",
    "B = np.rint(np.random.rand(n,n)*20 - 10)"
   ]
  },
  {
   "cell_type": "markdown",
   "metadata": {},
   "source": [
    "The cell above generates a $20 * 20$ matrix with integer elements in the range $b_{ij} \\in [-10, 10]$"
   ]
  },
  {
   "cell_type": "markdown",
   "metadata": {},
   "source": [
    "## (b)\n",
    "Remove the diagonal of $B$, save the upper triangular part in $U$ and the lower triangular part in $L$, and put ones on the diagonals $l_{ii} = u_{ii} = 1$."
   ]
  },
  {
   "cell_type": "code",
   "execution_count": 5,
   "metadata": {},
   "outputs": [],
   "source": [
    "L = np.zeros((n,n))\n",
    "U = np.zeros((n,n))\n",
    "for row in range(n):\n",
    "    for column in range(n):\n",
    "        if row == column:\n",
    "            # diagonal\n",
    "            B[row][column] = 0\n",
    "        \n",
    "for row in range(n):\n",
    "    for column in range(n):        \n",
    "        if row < column:\n",
    "            # lower\n",
    "            L[row][column] = B[row][column]\n",
    "        elif row > column:\n",
    "            #upper\n",
    "            U[row][column] = B[row][column]\n",
    "        \n",
    "np.fill_diagonal(L, 1)\n",
    "np.fill_diagonal(U, 1)"
   ]
  },
  {
   "cell_type": "markdown",
   "metadata": {},
   "source": [
    "Assuming that removing the diagonal of $B$ means setting the elements to $0$, the first loop removes the diagonal of $B$. The second loop saves the elements of the triangular matrices and the final command sets the diagonals to $1$."
   ]
  },
  {
   "cell_type": "markdown",
   "metadata": {},
   "source": [
    "## (c)\n",
    "Compute $A = L \\cdot U$. What is the value of $\\det(A)$ and why? Compute the determinant using the appropriate python command and confirm your prediction. In case that you have doubts about the result, compute separately $\\det(L)$ and $\\det(U)$."
   ]
  },
  {
   "cell_type": "code",
   "execution_count": 6,
   "metadata": {},
   "outputs": [
    {
     "data": {
      "text/plain": [
       "804835905.521148"
      ]
     },
     "execution_count": 6,
     "metadata": {},
     "output_type": "execute_result"
    }
   ],
   "source": [
    "A = np.matmul(L,U)\n",
    "np.linalg.det(A)"
   ]
  },
  {
   "cell_type": "markdown",
   "metadata": {},
   "source": [
    "The above cell computes the determinant of $A$ which is in this case $804835905.521148$. This appears to be wrong. The determinant should be $1$ as the determinants of $L$ and $U$ are one and $\\det(A) = \\det(L) * \\det(U)$. This happens as finding the determinant is prone to error. "
   ]
  },
  {
   "cell_type": "code",
   "execution_count": 7,
   "metadata": {
    "scrolled": true
   },
   "outputs": [
    {
     "name": "stdout",
     "output_type": "stream",
     "text": [
      "1.0 0.9999986129845544\n"
     ]
    }
   ],
   "source": [
    "print(np.linalg.det(L),np.linalg.det(U))"
   ]
  },
  {
   "cell_type": "markdown",
   "metadata": {},
   "source": [
    "The cell above computes the determinates of L and U seperately. They are respectivly $1.0$ and $0.9999986129845544$. This result is in line with the theory as the determinant of a triangular matrix is the product the diagonal. In this case the elements of the diagonal are all $1$ hence, this result is correct."
   ]
  },
  {
   "cell_type": "code",
   "execution_count": 8,
   "metadata": {},
   "outputs": [
    {
     "data": {
      "text/plain": [
       "(1.0, 20.506148970530703)"
      ]
     },
     "execution_count": 8,
     "metadata": {},
     "output_type": "execute_result"
    }
   ],
   "source": [
    "np.linalg.slogdet(A)"
   ]
  },
  {
   "cell_type": "markdown",
   "metadata": {},
   "source": [
    "The above cell uses the natural log to compute the determinant of $A$. Now the determinant is $1$."
   ]
  },
  {
   "cell_type": "markdown",
   "metadata": {},
   "source": [
    "## (d)\n",
    "Choose now an exact solution, for instance $x_{\\rm e} =$ `numpy.ones(n)`, and compute the corresponding right hand side $b = A x_{\\rm e}$."
   ]
  },
  {
   "cell_type": "code",
   "execution_count": 9,
   "metadata": {},
   "outputs": [
    {
     "data": {
      "text/plain": [
       "array([ 636.,  331.,  320.,  326.,  669., -406.,  325.,  -86.,  548.,\n",
       "        156., -251., -236., -422., -349.,  -86.,   62., -189., -297.,\n",
       "       -136.,  -27.])"
      ]
     },
     "execution_count": 9,
     "metadata": {},
     "output_type": "execute_result"
    }
   ],
   "source": [
    "b = np.matmul(A, np.ones(n))\n",
    "\n",
    "b"
   ]
  },
  {
   "cell_type": "markdown",
   "metadata": {},
   "source": [
    "The above cell generates a vector with all elements one and calcaultes what $b$ is. The resulting vector $b$ is \n",
    "\n",
    "$\\begin{bmatrix}   636.\\\\  331.\\\\  320.\\\\  326.\\\\  669.\\\\ -406.\\\\  325.\\\\  -86.\\\\  548.\\\\\n",
    "        156.\\\\ -251.\\\\ -236.\\\\ -422.\\\\ -349.\\\\  -86.\\\\   62.\\\\ -189.\\\\ -297.\\\\\n",
    "       -136.\\\\  -27. \\end{bmatrix}$"
   ]
  },
  {
   "cell_type": "markdown",
   "metadata": {},
   "source": [
    "## (e)\n",
    "Solve $A x = b$ using `scipy.linalg.lu_factor` and `scipy.linalg.lu_solve` and compare the solution with the exact $x_{\\rm e}$. "
   ]
  },
  {
   "cell_type": "code",
   "execution_count": 10,
   "metadata": {},
   "outputs": [],
   "source": [
    "lu, piv = la.lu_factor(A)"
   ]
  },
  {
   "cell_type": "code",
   "execution_count": 11,
   "metadata": {},
   "outputs": [
    {
     "data": {
      "text/plain": [
       "array([ 1.        ,  1.        ,  1.        ,  1.        ,  1.        ,\n",
       "        0.99999998,  0.99999983,  0.99999869,  0.99999922,  0.99999149,\n",
       "        1.00003146,  1.00018874,  0.99983995,  0.99855031,  0.99709845,\n",
       "        1.02101795,  1.10214885,  1.86904292, -1.00410593,  6.41994475])"
      ]
     },
     "execution_count": 11,
     "metadata": {},
     "output_type": "execute_result"
    }
   ],
   "source": [
    "la.lu_solve((lu, piv), b)"
   ]
  },
  {
   "cell_type": "markdown",
   "metadata": {},
   "source": [
    "Using the suggested libraries, the solution of $x_{e}$ is \n",
    "\n",
    "$\\begin{bmatrix}  1.        \\\\  1.        \\\\  1.        \\\\  1.        \\\\  1.        \\\\\n",
    "        0.99999998\\\\  0.99999983\\\\  0.99999869\\\\  0.99999922\\\\  0.99999149\\\\\n",
    "        1.00003146\\\\  1.00018874\\\\  0.99983995\\\\  0.99855031\\\\  0.99709845\\\\\n",
    "        1.02101795\\\\  1.10214885\\\\  1.86904292\\\\ -1.00410593\\\\  6.41994475 \\end{bmatrix}$"
   ]
  },
  {
   "cell_type": "markdown",
   "metadata": {},
   "source": [
    "## (f)\n",
    "Explain the bad results by computing the condition number of $A$."
   ]
  },
  {
   "cell_type": "code",
   "execution_count": 12,
   "metadata": {},
   "outputs": [
    {
     "data": {
      "text/plain": [
       "1.2260241100456064e+18"
      ]
     },
     "execution_count": 12,
     "metadata": {},
     "output_type": "execute_result"
    }
   ],
   "source": [
    "np.linalg.cond(A)"
   ]
  },
  {
   "cell_type": "markdown",
   "metadata": {},
   "source": [
    "The condition number is very high. It is $1.2260241100456064e+18$. This means that the matrix is very sensitive to input errors and that can be seen in the last $5$ entries of the vector in exercise (e)."
   ]
  },
  {
   "cell_type": "markdown",
   "metadata": {},
   "source": [
    "# Exercise 2\n",
    "## (a)\n",
    "Verify that \n",
    "$$   \\begin{bmatrix} A & B \\\\ C & D \n",
    "    \\end{bmatrix} =\n",
    "    \\begin{bmatrix} I_p & 0 \\\\ C A^{-1} & I_q \n",
    "    \\end{bmatrix}\n",
    "    \\begin{bmatrix} A & 0\\\\ 0 & D - CA^{-1} B\n",
    "    \\end{bmatrix}\n",
    "    \\begin\n",
    "    {bmatrix} I_p & A^{-1} B \\\\ 0 & I_q \n",
    "    \\end{bmatrix} \n",
    "$$"
   ]
  },
  {
   "cell_type": "markdown",
   "metadata": {},
   "source": [
    "The first step:\n",
    "\n",
    "$$   \\begin{bmatrix} I_p & 0 \\\\ C A^{-1} & I_q \n",
    "    \\end{bmatrix}\n",
    "    \\begin{bmatrix} A & 0\\\\ 0 & D - CA^{-1} B\n",
    "    \\end{bmatrix}\n",
    "    =\n",
    "    \\begin{bmatrix} (I_{P}*A) + (0*0) & (I_{p} * 0) + (0* D-CA^{-1}B) \\\\ (CA^{-1}*A) + (I_{p}*0) & (CA^{-1}*0)+(I_{p}*D-CA^{-1}B)\n",
    "    \\end{bmatrix}\n",
    "    =\n",
    "    \\begin{bmatrix} A & 0 \\\\ C & D-CA^{-1}B\n",
    "    \\end{bmatrix}.\n",
    "$$\n",
    "\n",
    "The second step:\n",
    "$$\n",
    "    \\begin{bmatrix} A & 0 \\\\ C & D-CA^{-1}B\n",
    "    \\end{bmatrix}\n",
    "    \\begin{bmatrix} I_p & A^{-1} B \\\\ 0 & I_q \n",
    "    \\end{bmatrix}\n",
    "    =\n",
    "    \\begin{bmatrix} (A*I_{p}) + 0*0 & (A*A^{-1}B) + (0*I_{p}) \\\\ (C*I_{p})+(0*(D-CA^{-1}B)) & (C*A^{-1}B) + (D-CA^{-1}B*I_{p})\n",
    "    \\end{bmatrix}\n",
    "    =\n",
    "    \\begin{bmatrix} A & B \\\\ C & D  \\end{bmatrix}.\n",
    "$$\n",
    "\n",
    "Thus\n",
    "\n",
    "$$\n",
    "    \\begin{bmatrix} A & B \\\\ C & D \n",
    "    \\end{bmatrix} =\n",
    "    \\begin{bmatrix} I_p & 0 \\\\ C A^{-1} & I_q \n",
    "    \\end{bmatrix}\n",
    "    \\begin{bmatrix} A & 0\\\\ 0 & D - CA^{-1} B\n",
    "    \\end{bmatrix}\n",
    "    \\begin{bmatrix} I_p & A^{-1} B \\\\ 0 & I_q \n",
    "    \\end{bmatrix} \n",
    "$$."
   ]
  },
  {
   "cell_type": "markdown",
   "metadata": {},
   "source": [
    "## (b)\n",
    "Describe how a system $M x = b$, with $x$ and $b$ in $\\mathbb{R}^{p+q}$,\n",
    "can be solved by applying matrix-vector products with $C$ and\n",
    "$B$ and solves with $A$ and $(D - CA^{-1}B)$."
   ]
  },
  {
   "cell_type": "markdown",
   "metadata": {},
   "source": [
    "$$Mx = b$$\n",
    "\n",
    "$$ \\begin{bmatrix} A & B \\\\ C & D \\end{bmatrix} x = b$$\n",
    "\n",
    "$$ \\begin{bmatrix} A & B \\\\ C & D \\end{bmatrix} \\begin{bmatrix} x_{1} \\\\ x_{2} \\end{bmatrix} = \\begin{bmatrix} b_{1} \\\\ b_{2} \\end{bmatrix}$$\n",
    "\n",
    "From the question it is known that $A$ is invertible. Hence, $x_{1}$ can be eliminated by\n",
    "\n",
    "$$Ax_{1} + Bx_{2} = b_{1} $$\n",
    "\n",
    "$$x_{1} = A^{-1}(b_{1}-Bx_{2}).$$\n",
    "\n",
    "For the second equation\n",
    "\n",
    "$$Cx_{1} + Dx_{2} = b_{2} $$\n",
    "\n",
    "$$ C(A^{-1}(b_{1}-Bx_{2})) + Dx_{2} = b_{2} $$\n",
    "\n",
    "$$(D-CA^{-1})x_{2} = b_{2} - CA^{-1}b_{1}.$$\n",
    "\n",
    "Now let $S = D-CA^{-1}B$, then\n",
    "\n",
    "$$x_{2} = S^{-1}(b_{2} - CA^{-1}b_{1}).$$\n",
    "\n",
    "Substituting this expression into the expression for $x_{1}$ gives\n",
    "\n",
    "$$x_{1} = A^{-1}(b_{1}-B(S^{-1}(b_{2} - CA^{-1}b_{1})))$$\n",
    "\n",
    "$$x_{1} = (A^{-1} + A^{-1}BS^{-1}CA^{-1})b_{1}-A^{-1}BS^{-1}b_{2}$$.\n",
    "\n",
    "Now $Mx=b$ can be solved with $x, b$ by\n",
    "\n",
    "$$\\begin{bmatrix} x_{1} \\\\ x_{2} \\end{bmatrix} = \\begin{bmatrix} A^{-1}+A^{-1}BS^{-1}CA^{-1} & -A^{-1}BS^{-1} \\\\ -S^{-1}CA^{-1} & S^{-1} \\end{bmatrix} \\begin{bmatrix} b_{1} \\\\ b_{2} \\end{bmatrix}$$"
   ]
  },
  {
   "cell_type": "markdown",
   "metadata": {},
   "source": [
    "## (c)\n",
    "What is the cost, to highest order, of LU-factorizing $A$ and of\n",
    "computing and LU-factorizing $D - CA^{-1} B$? "
   ]
  },
  {
   "cell_type": "markdown",
   "metadata": {},
   "source": [
    "The cost to the highest order of LU-factorizing $A$ is as follows:\n",
    "\n",
    "Eliminiating the first column requires $p$ additions and $p$ multiplications on $p-1$ rows. Thus $2p(p-1)$ operations.\n",
    "\n",
    "For the second column there are $p-1$ additions and $p-1$ multiplications on $p-2$ rows. Thus $2(p-1)(p-2)$ operations.\n",
    "\n",
    "Thus $\\sum^{p}_{i=1} 2(p-1)(p-i+1)$ operations per column. Now let $j=p-i+1$.\n",
    "\n",
    "$2 \\sum^{p-1}_{j=0}j(j+1)$\n",
    "\n",
    "$2 \\sum^{p-1}_{j=0}(j^{2} + j)$\n",
    "\n",
    "$2 (\\frac{p^{3}}{3} - \\frac{p}{3})$\n",
    "\n",
    "$\\frac{2p^{3}}{3} - \\frac{2p}{3}.$\n",
    "\n",
    "So in the worst case the cost of LU-factorizing $A$ is $\\frac{2p^{3}}{3} - \\frac{2p}{3}.$ So the cost to the highest order of LU-factorizing $A$ is $\\frac{2p^{3}}{3}$."
   ]
  },
  {
   "cell_type": "markdown",
   "metadata": {},
   "source": [
    "Computing $D-CA^{-1}B$. Inverting a matrix has a time-complexity of $O(n^{3})$, in this case $O(p^{3})$.\n",
    "\n",
    "First, compute $CA^{-1}$. $C$ is $q*p$ and $A^{-1}$ is $p*p$, which computing the matrix multiplication is of order $O(pqp) = O(p^{2}q)$. This is because adding and multiplying $p$ terms for each $pq$ element. The resulting matrix is of size $q*p$.\n",
    "\n",
    "Second, compute $CA^{-1}$ times $B$ which is $q*p$ times $p*q$. This has a time complexity of $O(qpq) = O(q^{2}p)$. This is because adding and multiplying $q$ terms for each $qp$ element. The resulting matrix is of size $q*q$.\n",
    "\n",
    "The final operation is subtracting a $q*q$ matrix from a $q*q$ matrix which is a total of $q^{2}$ operations.\n",
    "\n",
    "The total time complexity is $O(p^{3} + p^{2}q + q^{2}p + q^{2})$."
   ]
  },
  {
   "cell_type": "markdown",
   "metadata": {},
   "source": [
    "The LU-factorizing $D-CA^{-1}B$ cost follows the same logical as the LU-factorizing cost of $A$\n",
    "\n",
    "Thus $\\sum^{q}_{i=1} 2(q-1)(q-i+1)$ operations per column. Now let $j=q-i+1$.\n",
    "\n",
    "$2 \\sum^{q-1}_{j=0}j(j+1)$\n",
    "\n",
    "$2 \\sum^{q-1}_{j=0}(j^{2} + j)$\n",
    "\n",
    "$2 (\\frac{q^{3}}{3} - \\frac{q}{3})$\n",
    "\n",
    "$\\frac{2q^{3}}{3} - \\frac{2q}{3}.$\n",
    "\n",
    "So in the worst case the cost of LU-factorizing $D-CA^{-1}B$ is $\\frac{2q^{3}}{3} - \\frac{2q}{3}.$ So the cost to the highest order of LU-factorizing $D-CA^{-1}B$ is $\\frac{2q^{3}}{3}$."
   ]
  },
  {
   "cell_type": "code",
   "execution_count": null,
   "metadata": {},
   "outputs": [],
   "source": []
  }
 ],
 "metadata": {
  "kernelspec": {
   "display_name": "Python 3",
   "language": "python",
   "name": "python3"
  },
  "language_info": {
   "codemirror_mode": {
    "name": "ipython",
    "version": 3
   },
   "file_extension": ".py",
   "mimetype": "text/x-python",
   "name": "python",
   "nbconvert_exporter": "python",
   "pygments_lexer": "ipython3",
   "version": "3.8.5"
  }
 },
 "nbformat": 4,
 "nbformat_minor": 4
}
