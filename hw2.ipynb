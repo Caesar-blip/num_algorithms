{
  "nbformat": 4,
  "nbformat_minor": 5,
  "metadata": {
    "kernelspec": {
      "display_name": "Python 3",
      "language": "python",
      "name": "python3"
    },
    "language_info": {
      "codemirror_mode": {
        "name": "ipython",
        "version": 3
      },
      "file_extension": ".py",
      "mimetype": "text/x-python",
      "name": "python",
      "nbconvert_exporter": "python",
      "pygments_lexer": "ipython3",
      "version": "3.9.2"
    },
    "colab": {
      "name": "hw2.ipynb",
      "provenance": [],
      "collapsed_sections": []
    }
  },
  "cells": [
    {
      "cell_type": "markdown",
      "metadata": {
        "nbgrader": {
          "grade": false,
          "grade_id": "cell-736ff6bc3e0d0696",
          "locked": true,
          "schema_version": 3,
          "solution": false,
          "task": false
        },
        "id": "e6991386-31db-4655-822b-21f41a064f0b"
      },
      "source": [
        "# Homework Set 2\n",
        "\n",
        "Please **submit this Jupyter notebook through Canvas** no later than **Mon Nov. 15, 9:00**.\n",
        "\n",
        "Homework is in **groups of two**, and you are expected to hand in original work. Work that is copied from another group will not be accepted."
      ],
      "id": "e6991386-31db-4655-822b-21f41a064f0b"
    },
    {
      "cell_type": "markdown",
      "metadata": {
        "nbgrader": {
          "grade": false,
          "grade_id": "cell-b13bc5ed16bce8e0",
          "locked": true,
          "schema_version": 3,
          "solution": false,
          "task": false
        },
        "id": "28e0cf7d-032f-4435-b4d6-a0ebe27ab051"
      },
      "source": [
        "# Exercise 0\n",
        "Write down the names + student ID of the people in your group."
      ],
      "id": "28e0cf7d-032f-4435-b4d6-a0ebe27ab051"
    },
    {
      "cell_type": "markdown",
      "metadata": {
        "nbgrader": {
          "grade": true,
          "grade_id": "cell-fd464f55ba436b1c",
          "locked": false,
          "points": 0,
          "schema_version": 3,
          "solution": true,
          "task": false
        },
        "id": "ed90a614-072a-48eb-9297-d8eaf8e5183f"
      },
      "source": [
        "$\n",
        "Julius Wantenaar \\\\11339055\\\\\n",
        "Sebastiaan Bye\n",
        "$"
      ],
      "id": "ed90a614-072a-48eb-9297-d8eaf8e5183f"
    },
    {
      "cell_type": "markdown",
      "metadata": {
        "nbgrader": {
          "grade": false,
          "grade_id": "cell-b5a7855ecca9f6be",
          "locked": true,
          "schema_version": 3,
          "solution": false,
          "task": false
        },
        "id": "ed21bb3f-43a0-40b3-83bf-cf4a679370ea"
      },
      "source": [
        "Run the following cell to import the necessary packages."
      ],
      "id": "ed21bb3f-43a0-40b3-83bf-cf4a679370ea"
    },
    {
      "cell_type": "code",
      "metadata": {
        "id": "f94d7728-fe51-45ac-903f-59c066161470"
      },
      "source": [
        "import numpy as np\n",
        "import scipy.linalg as la\n",
        "import matplotlib.pyplot as plt\n",
        "import random"
      ],
      "id": "f94d7728-fe51-45ac-903f-59c066161470",
      "execution_count": 1,
      "outputs": []
    },
    {
      "cell_type": "markdown",
      "metadata": {
        "id": "aa14ad46-1797-4256-9ead-da2143c4118d"
      },
      "source": [
        "# Exercise 1\n",
        "\n",
        "The goal of this problem is to show that apparently harmless looking systems of linear equations may be very difficult to solve. Some functions that may be useful are `numpy.triu`, `numpy.tril`, `numpy.eye`, `random.randrange`.\n",
        "## (a)\n",
        "Generate an $n \\times n$ matrix $B$ with random integer elements in the range\n",
        "$b_{ij} \\in [-10, 10]$. Choose for instance $n=20$.\n"
      ],
      "id": "aa14ad46-1797-4256-9ead-da2143c4118d"
    },
    {
      "cell_type": "code",
      "metadata": {
        "id": "946ce5e1-4d17-48ab-9992-836ac9e76794"
      },
      "source": [
        "n = 2\n",
        "B = np.rint(np.random.rand(n,n)*20 - 10)"
      ],
      "id": "946ce5e1-4d17-48ab-9992-836ac9e76794",
      "execution_count": 59,
      "outputs": []
    },
    {
      "cell_type": "markdown",
      "metadata": {
        "id": "230a0f2e-5887-4047-9ede-887d02dea5a1"
      },
      "source": [
        "## (b)\n",
        "Remove the diagonal of $B$, save the upper triangular part in $U$ and the lower triangular part in $L$, and put ones on the diagonals $l_{ii} = u_{ii} = 1$."
      ],
      "id": "230a0f2e-5887-4047-9ede-887d02dea5a1"
    },
    {
      "cell_type": "code",
      "metadata": {
        "id": "299a4cf2-677a-4b27-91c1-f731801a74a6"
      },
      "source": [
        "L = np.zeros((n,n))\n",
        "U = np.zeros((n,n))\n",
        "for row in range(n):\n",
        "    for column in range(n):\n",
        "        if row == column:\n",
        "            # diagonal\n",
        "            B[row][column] = 1\n",
        "        \n",
        "for row in range(n):\n",
        "    for column in range(n):        \n",
        "        if row < column:\n",
        "            # lower\n",
        "            L[row][column] = B[row][column]\n",
        "        elif row > column:\n",
        "            #upper\n",
        "            U[row][column] = B[row][column]\n",
        "        \n",
        "np.fill_diagonal(L, 1)\n",
        "np.fill_diagonal(U, 1)"
      ],
      "id": "299a4cf2-677a-4b27-91c1-f731801a74a6",
      "execution_count": 60,
      "outputs": []
    },
    {
      "cell_type": "code",
      "metadata": {
        "colab": {
          "base_uri": "https://localhost:8080/"
        },
        "id": "2LO2ym2RN1oz",
        "outputId": "13399fc3-fc7b-4f97-fbb3-25d8442f7dd5"
      },
      "source": [
        ""
      ],
      "id": "2LO2ym2RN1oz",
      "execution_count": 36,
      "outputs": [
        {
          "output_type": "execute_result",
          "data": {
            "text/plain": [
              "1.0"
            ]
          },
          "metadata": {},
          "execution_count": 36
        }
      ]
    },
    {
      "cell_type": "markdown",
      "metadata": {
        "id": "53b14e0f-f9e0-48c6-b192-e0f8026bd99b"
      },
      "source": [
        "## (c)\n",
        "Compute $A = L \\cdot U$. What is the value of $\\det(A)$ and why? Compute the determinant using the appropriate python command and confirm your prediction. In case that you have doubts about the result, compute separately $\\det(L)$ and $\\det(U)$."
      ],
      "id": "53b14e0f-f9e0-48c6-b192-e0f8026bd99b"
    },
    {
      "cell_type": "code",
      "metadata": {
        "colab": {
          "base_uri": "https://localhost:8080/"
        },
        "id": "414a0af7",
        "outputId": "e2dfe889-0f2d-4855-e729-c0bdc5c1b2cb"
      },
      "source": [
        "A = np.matmul(L,U)\n",
        "np.linalg.det(A)"
      ],
      "id": "414a0af7",
      "execution_count": 84,
      "outputs": [
        {
          "output_type": "execute_result",
          "data": {
            "text/plain": [
              "0.9999999999999964"
            ]
          },
          "metadata": {},
          "execution_count": 84
        }
      ]
    },
    {
      "cell_type": "code",
      "metadata": {
        "colab": {
          "base_uri": "https://localhost:8080/"
        },
        "id": "1Hz4ev4ZO5_F",
        "outputId": "7fc3a4ed-ca06-4725-a1d3-ea1858341496"
      },
      "source": [
        "np.linalg.slogdet(A)"
      ],
      "id": "1Hz4ev4ZO5_F",
      "execution_count": 62,
      "outputs": [
        {
          "output_type": "execute_result",
          "data": {
            "text/plain": [
              "(1.0, -3.552713678800501e-15)"
            ]
          },
          "metadata": {},
          "execution_count": 62
        }
      ]
    },
    {
      "cell_type": "markdown",
      "metadata": {
        "id": "f8c995cb-46d0-44b9-ba64-92321686767d"
      },
      "source": [
        "1 because the diagonal is 1\n"
      ],
      "id": "f8c995cb-46d0-44b9-ba64-92321686767d"
    },
    {
      "cell_type": "markdown",
      "metadata": {
        "id": "9aa377cc-d913-46ca-a625-30e3ec7c91fb"
      },
      "source": [
        "## (d)\n",
        "Choose now an exact solution, for instance $x_{\\rm e} =$ `numpy.ones(n)`, and compute the corresponding right hand side $b = A x_{\\rm e}$.\n"
      ],
      "id": "9aa377cc-d913-46ca-a625-30e3ec7c91fb"
    },
    {
      "cell_type": "code",
      "metadata": {
        "colab": {
          "base_uri": "https://localhost:8080/"
        },
        "id": "36dac949-ae76-4fb1-8060-921d010a1558",
        "outputId": "9c1c3033-a95f-45ce-fd63-6545924a2727"
      },
      "source": [
        "b = np.matmul(A, np.ones(n))\n",
        "\n",
        "b"
      ],
      "id": "36dac949-ae76-4fb1-8060-921d010a1558",
      "execution_count": 63,
      "outputs": [
        {
          "output_type": "execute_result",
          "data": {
            "text/plain": [
              "array([-29.,  -6.])"
            ]
          },
          "metadata": {},
          "execution_count": 63
        }
      ]
    },
    {
      "cell_type": "markdown",
      "metadata": {
        "id": "fc0577fd-9510-4e73-8d1c-5b738885ad27"
      },
      "source": [
        "## (e)\n",
        "Solve $A x = b$ using `scipy.linalg.lu_factor` and `scipy.linalg.lu_solve` and compare the solution with the exact $x_{\\rm e}$. "
      ],
      "id": "fc0577fd-9510-4e73-8d1c-5b738885ad27"
    },
    {
      "cell_type": "code",
      "metadata": {
        "colab": {
          "base_uri": "https://localhost:8080/",
          "height": 390
        },
        "id": "ce517576-e784-4d67-9e88-94bcb295fcbd",
        "outputId": "3c1c7519-c585-4d4c-95a6-e5d1e128f211"
      },
      "source": [
        "lu, piv = la.lu_factor(A)\n",
        "la.solve((lu,piv), b)"
      ],
      "id": "ce517576-e784-4d67-9e88-94bcb295fcbd",
      "execution_count": 86,
      "outputs": [
        {
          "output_type": "stream",
          "name": "stderr",
          "text": [
            "/usr/local/lib/python3.7/dist-packages/numpy/core/_asarray.py:83: VisibleDeprecationWarning: Creating an ndarray from ragged nested sequences (which is a list-or-tuple of lists-or-tuples-or ndarrays with different lengths or shapes) is deprecated. If you meant to do this, you must specify 'dtype=object' when creating the ndarray\n",
            "  return array(a, dtype, copy=False, order=order)\n"
          ]
        },
        {
          "output_type": "error",
          "ename": "ValueError",
          "evalue": "ignored",
          "traceback": [
            "\u001b[0;31m---------------------------------------------------------------------------\u001b[0m",
            "\u001b[0;31mValueError\u001b[0m                                Traceback (most recent call last)",
            "\u001b[0;32m<ipython-input-86-a2c1e9d4f7f1>\u001b[0m in \u001b[0;36m<module>\u001b[0;34m()\u001b[0m\n\u001b[1;32m      1\u001b[0m \u001b[0mlu\u001b[0m\u001b[0;34m,\u001b[0m \u001b[0mpiv\u001b[0m \u001b[0;34m=\u001b[0m \u001b[0mla\u001b[0m\u001b[0;34m.\u001b[0m\u001b[0mlu_factor\u001b[0m\u001b[0;34m(\u001b[0m\u001b[0mA\u001b[0m\u001b[0;34m)\u001b[0m\u001b[0;34m\u001b[0m\u001b[0;34m\u001b[0m\u001b[0m\n\u001b[0;32m----> 2\u001b[0;31m \u001b[0mla\u001b[0m\u001b[0;34m.\u001b[0m\u001b[0msolve\u001b[0m\u001b[0;34m(\u001b[0m\u001b[0;34m(\u001b[0m\u001b[0mlu\u001b[0m\u001b[0;34m,\u001b[0m\u001b[0mpiv\u001b[0m\u001b[0;34m)\u001b[0m\u001b[0;34m,\u001b[0m \u001b[0mb\u001b[0m\u001b[0;34m)\u001b[0m\u001b[0;34m\u001b[0m\u001b[0;34m\u001b[0m\u001b[0m\n\u001b[0m",
            "\u001b[0;32m/usr/local/lib/python3.7/dist-packages/scipy/linalg/basic.py\u001b[0m in \u001b[0;36msolve\u001b[0;34m(a, b, sym_pos, lower, overwrite_a, overwrite_b, debug, check_finite, assume_a, transposed)\u001b[0m\n\u001b[1;32m    137\u001b[0m     \u001b[0mb_is_1D\u001b[0m \u001b[0;34m=\u001b[0m \u001b[0;32mFalse\u001b[0m\u001b[0;34m\u001b[0m\u001b[0;34m\u001b[0m\u001b[0m\n\u001b[1;32m    138\u001b[0m \u001b[0;34m\u001b[0m\u001b[0m\n\u001b[0;32m--> 139\u001b[0;31m     \u001b[0ma1\u001b[0m \u001b[0;34m=\u001b[0m \u001b[0matleast_2d\u001b[0m\u001b[0;34m(\u001b[0m\u001b[0m_asarray_validated\u001b[0m\u001b[0;34m(\u001b[0m\u001b[0ma\u001b[0m\u001b[0;34m,\u001b[0m \u001b[0mcheck_finite\u001b[0m\u001b[0;34m=\u001b[0m\u001b[0mcheck_finite\u001b[0m\u001b[0;34m)\u001b[0m\u001b[0;34m)\u001b[0m\u001b[0;34m\u001b[0m\u001b[0;34m\u001b[0m\u001b[0m\n\u001b[0m\u001b[1;32m    140\u001b[0m     \u001b[0mb1\u001b[0m \u001b[0;34m=\u001b[0m \u001b[0matleast_1d\u001b[0m\u001b[0;34m(\u001b[0m\u001b[0m_asarray_validated\u001b[0m\u001b[0;34m(\u001b[0m\u001b[0mb\u001b[0m\u001b[0;34m,\u001b[0m \u001b[0mcheck_finite\u001b[0m\u001b[0;34m=\u001b[0m\u001b[0mcheck_finite\u001b[0m\u001b[0;34m)\u001b[0m\u001b[0;34m)\u001b[0m\u001b[0;34m\u001b[0m\u001b[0;34m\u001b[0m\u001b[0m\n\u001b[1;32m    141\u001b[0m     \u001b[0mn\u001b[0m \u001b[0;34m=\u001b[0m \u001b[0ma1\u001b[0m\u001b[0;34m.\u001b[0m\u001b[0mshape\u001b[0m\u001b[0;34m[\u001b[0m\u001b[0;36m0\u001b[0m\u001b[0;34m]\u001b[0m\u001b[0;34m\u001b[0m\u001b[0;34m\u001b[0m\u001b[0m\n",
            "\u001b[0;32m/usr/local/lib/python3.7/dist-packages/scipy/_lib/_util.py\u001b[0m in \u001b[0;36m_asarray_validated\u001b[0;34m(a, check_finite, sparse_ok, objects_ok, mask_ok, as_inexact)\u001b[0m\n\u001b[1;32m    244\u001b[0m             \u001b[0;32mraise\u001b[0m \u001b[0mValueError\u001b[0m\u001b[0;34m(\u001b[0m\u001b[0;34m'masked arrays are not supported'\u001b[0m\u001b[0;34m)\u001b[0m\u001b[0;34m\u001b[0m\u001b[0;34m\u001b[0m\u001b[0m\n\u001b[1;32m    245\u001b[0m     \u001b[0mtoarray\u001b[0m \u001b[0;34m=\u001b[0m \u001b[0mnp\u001b[0m\u001b[0;34m.\u001b[0m\u001b[0masarray_chkfinite\u001b[0m \u001b[0;32mif\u001b[0m \u001b[0mcheck_finite\u001b[0m \u001b[0;32melse\u001b[0m \u001b[0mnp\u001b[0m\u001b[0;34m.\u001b[0m\u001b[0masarray\u001b[0m\u001b[0;34m\u001b[0m\u001b[0;34m\u001b[0m\u001b[0m\n\u001b[0;32m--> 246\u001b[0;31m     \u001b[0ma\u001b[0m \u001b[0;34m=\u001b[0m \u001b[0mtoarray\u001b[0m\u001b[0;34m(\u001b[0m\u001b[0ma\u001b[0m\u001b[0;34m)\u001b[0m\u001b[0;34m\u001b[0m\u001b[0;34m\u001b[0m\u001b[0m\n\u001b[0m\u001b[1;32m    247\u001b[0m     \u001b[0;32mif\u001b[0m \u001b[0;32mnot\u001b[0m \u001b[0mobjects_ok\u001b[0m\u001b[0;34m:\u001b[0m\u001b[0;34m\u001b[0m\u001b[0;34m\u001b[0m\u001b[0m\n\u001b[1;32m    248\u001b[0m         \u001b[0;32mif\u001b[0m \u001b[0ma\u001b[0m\u001b[0;34m.\u001b[0m\u001b[0mdtype\u001b[0m \u001b[0;32mis\u001b[0m \u001b[0mnp\u001b[0m\u001b[0;34m.\u001b[0m\u001b[0mdtype\u001b[0m\u001b[0;34m(\u001b[0m\u001b[0;34m'O'\u001b[0m\u001b[0;34m)\u001b[0m\u001b[0;34m:\u001b[0m\u001b[0;34m\u001b[0m\u001b[0;34m\u001b[0m\u001b[0m\n",
            "\u001b[0;32m/usr/local/lib/python3.7/dist-packages/numpy/lib/function_base.py\u001b[0m in \u001b[0;36masarray_chkfinite\u001b[0;34m(a, dtype, order)\u001b[0m\n\u001b[1;32m    481\u001b[0m \u001b[0;34m\u001b[0m\u001b[0m\n\u001b[1;32m    482\u001b[0m     \"\"\"\n\u001b[0;32m--> 483\u001b[0;31m     \u001b[0ma\u001b[0m \u001b[0;34m=\u001b[0m \u001b[0masarray\u001b[0m\u001b[0;34m(\u001b[0m\u001b[0ma\u001b[0m\u001b[0;34m,\u001b[0m \u001b[0mdtype\u001b[0m\u001b[0;34m=\u001b[0m\u001b[0mdtype\u001b[0m\u001b[0;34m,\u001b[0m \u001b[0morder\u001b[0m\u001b[0;34m=\u001b[0m\u001b[0morder\u001b[0m\u001b[0;34m)\u001b[0m\u001b[0;34m\u001b[0m\u001b[0;34m\u001b[0m\u001b[0m\n\u001b[0m\u001b[1;32m    484\u001b[0m     \u001b[0;32mif\u001b[0m \u001b[0ma\u001b[0m\u001b[0;34m.\u001b[0m\u001b[0mdtype\u001b[0m\u001b[0;34m.\u001b[0m\u001b[0mchar\u001b[0m \u001b[0;32min\u001b[0m \u001b[0mtypecodes\u001b[0m\u001b[0;34m[\u001b[0m\u001b[0;34m'AllFloat'\u001b[0m\u001b[0;34m]\u001b[0m \u001b[0;32mand\u001b[0m \u001b[0;32mnot\u001b[0m \u001b[0mnp\u001b[0m\u001b[0;34m.\u001b[0m\u001b[0misfinite\u001b[0m\u001b[0;34m(\u001b[0m\u001b[0ma\u001b[0m\u001b[0;34m)\u001b[0m\u001b[0;34m.\u001b[0m\u001b[0mall\u001b[0m\u001b[0;34m(\u001b[0m\u001b[0;34m)\u001b[0m\u001b[0;34m:\u001b[0m\u001b[0;34m\u001b[0m\u001b[0;34m\u001b[0m\u001b[0m\n\u001b[1;32m    485\u001b[0m         raise ValueError(\n",
            "\u001b[0;32m/usr/local/lib/python3.7/dist-packages/numpy/core/_asarray.py\u001b[0m in \u001b[0;36masarray\u001b[0;34m(a, dtype, order)\u001b[0m\n\u001b[1;32m     81\u001b[0m \u001b[0;34m\u001b[0m\u001b[0m\n\u001b[1;32m     82\u001b[0m     \"\"\"\n\u001b[0;32m---> 83\u001b[0;31m     \u001b[0;32mreturn\u001b[0m \u001b[0marray\u001b[0m\u001b[0;34m(\u001b[0m\u001b[0ma\u001b[0m\u001b[0;34m,\u001b[0m \u001b[0mdtype\u001b[0m\u001b[0;34m,\u001b[0m \u001b[0mcopy\u001b[0m\u001b[0;34m=\u001b[0m\u001b[0;32mFalse\u001b[0m\u001b[0;34m,\u001b[0m \u001b[0morder\u001b[0m\u001b[0;34m=\u001b[0m\u001b[0morder\u001b[0m\u001b[0;34m)\u001b[0m\u001b[0;34m\u001b[0m\u001b[0;34m\u001b[0m\u001b[0m\n\u001b[0m\u001b[1;32m     84\u001b[0m \u001b[0;34m\u001b[0m\u001b[0m\n\u001b[1;32m     85\u001b[0m \u001b[0;34m\u001b[0m\u001b[0m\n",
            "\u001b[0;31mValueError\u001b[0m: could not broadcast input array from shape (2,2) into shape (2)"
          ]
        }
      ]
    },
    {
      "cell_type": "code",
      "metadata": {
        "colab": {
          "base_uri": "https://localhost:8080/"
        },
        "id": "m7BDuEU6SptA",
        "outputId": "af67ad1b-25a8-4205-9250-c2ae45c21cc6"
      },
      "source": [
        ""
      ],
      "id": "m7BDuEU6SptA",
      "execution_count": 87,
      "outputs": [
        {
          "output_type": "execute_result",
          "data": {
            "text/plain": [
              "array([[-3.40000000e+01,  5.00000000e+00],\n",
              "       [ 2.05882353e-01, -2.94117647e-02]])"
            ]
          },
          "metadata": {},
          "execution_count": 87
        }
      ]
    },
    {
      "cell_type": "code",
      "metadata": {
        "colab": {
          "base_uri": "https://localhost:8080/"
        },
        "id": "V-EvZwhASQpU",
        "outputId": "6de0247c-b37a-4fd0-9735-77aa54c8371f"
      },
      "source": [
        "from scipy.linalg import lu_factor, lu_solve\n",
        "A = np.array([[2, 5, 8, 7], [5, 2, 2, 8], [7, 5, 6, 6], [5, 4, 4, 8]])\n",
        "b = np.array([1, 1, 1, 1])\n",
        "lu2, piv2 = lu_factor(A)\n",
        "x = lu_solve((lu2, piv2), b)\n",
        "#np.allclose(A @ x - b, np.zeros((4,)))\n",
        "x"
      ],
      "id": "V-EvZwhASQpU",
      "execution_count": 80,
      "outputs": [
        {
          "output_type": "execute_result",
          "data": {
            "text/plain": [
              "array([ 0.05154639, -0.08247423,  0.08247423,  0.09278351])"
            ]
          },
          "metadata": {},
          "execution_count": 80
        }
      ]
    },
    {
      "cell_type": "code",
      "metadata": {
        "colab": {
          "base_uri": "https://localhost:8080/"
        },
        "id": "emh7mXp7S9q_",
        "outputId": "71a02492-f46d-4f70-a6a6-9303e166e4f1"
      },
      "source": [
        "lu2"
      ],
      "id": "emh7mXp7S9q_",
      "execution_count": 81,
      "outputs": [
        {
          "output_type": "execute_result",
          "data": {
            "text/plain": [
              "array([[ 7.        ,  5.        ,  6.        ,  6.        ],\n",
              "       [ 0.28571429,  3.57142857,  6.28571429,  5.28571429],\n",
              "       [ 0.71428571,  0.12      , -1.04      ,  3.08      ],\n",
              "       [ 0.71428571, -0.44      , -0.46153846,  7.46153846]])"
            ]
          },
          "metadata": {},
          "execution_count": 81
        }
      ]
    },
    {
      "cell_type": "markdown",
      "metadata": {
        "id": "b63e4111-78f2-4e60-b0ca-30c176821884"
      },
      "source": [
        "## (f)\n",
        "Explain the bad results by computing the condition number of $A$."
      ],
      "id": "b63e4111-78f2-4e60-b0ca-30c176821884"
    },
    {
      "cell_type": "code",
      "metadata": {
        "colab": {
          "base_uri": "https://localhost:8080/"
        },
        "id": "4b53e4fa-77d3-4631-847a-6ec198bda173",
        "outputId": "71d9cda5-49f3-44e9-94b5-ac3187c1e0d0"
      },
      "source": [
        "np.linalg.cond(A)"
      ],
      "id": "4b53e4fa-77d3-4631-847a-6ec198bda173",
      "execution_count": 90,
      "outputs": [
        {
          "output_type": "execute_result",
          "data": {
            "text/plain": [
              "1230.9991876517854"
            ]
          },
          "metadata": {},
          "execution_count": 90
        }
      ]
    },
    {
      "cell_type": "markdown",
      "metadata": {
        "id": "1b4bf294-40af-4285-850f-650ba466ae04"
      },
      "source": [
        "It is very high, making it very sensitive to errors.\n"
      ],
      "id": "1b4bf294-40af-4285-850f-650ba466ae04"
    },
    {
      "cell_type": "markdown",
      "metadata": {
        "id": "0e861009-6cb1-45ef-ab7c-c7dfbb50652e"
      },
      "source": [
        "# Exercise 2\n",
        "\n",
        "(N.B. this is a theory exercise.)\n",
        "Suppose we write a $(p+q) \\times (p+q)$ matrix $M$ in block form where\n",
        "$A, B, C, D$ are respectively $p \\times p, p \\times q, q \\times p$\n",
        "and $q \\times q$ matrices\n",
        "$$ M = \\begin{bmatrix} A & B \\\\ C & D  \\end{bmatrix}. $$"
      ],
      "id": "0e861009-6cb1-45ef-ab7c-c7dfbb50652e"
    },
    {
      "cell_type": "markdown",
      "metadata": {
        "id": "83c83ef7-bce0-49c1-ab1a-0e419a740b6d"
      },
      "source": [
        "## (a)\n",
        "Verify that \n",
        "$   \\begin{bmatrix} A & B \\\\ C & D \n",
        "    \\end{bmatrix} =\n",
        "    \\begin{bmatrix} I_p & 0 \\\\ C A^{-1} & I_q \n",
        "    \\end{bmatrix}\n",
        "    \\begin{bmatrix} A & 0\\\\ 0 & D - CA^{-1} B\n",
        "    \\end{bmatrix}\n",
        "    \\begin{bmatrix} I_p & A^{-1} B \\\\ 0 & I_q \n",
        "    \\end{bmatrix} \n",
        "$"
      ],
      "id": "83c83ef7-bce0-49c1-ab1a-0e419a740b6d"
    },
    {
      "cell_type": "markdown",
      "metadata": {
        "id": "84ff623d-533a-46f7-8389-8ba004079ba6"
      },
      "source": [
        "\n"
      ],
      "id": "84ff623d-533a-46f7-8389-8ba004079ba6"
    },
    {
      "cell_type": "markdown",
      "metadata": {
        "id": "10LVPwZSXOQN"
      },
      "source": [
        "$   \\begin{bmatrix} I_p & 0 \\\\ C A^{-1} & I_q \n",
        "    \\end{bmatrix}\n",
        "    \\begin{bmatrix} A & 0\\\\ 0 & D - CA^{-1} B\n",
        "    \\end{bmatrix}\n",
        "    =\n",
        "    \\begin{bmatrix} (I_{P}*A) + (0*0) & (I_{p} * 0) + (0* D-CA^{-1}B) \\\\ (CA^{-1}*A) + (I_{p}*0) & (CA^{-1}*0)+(I_{p}*D-CA^{-1}B)\n",
        "    \\end{bmatrix}\n",
        "    =\n",
        "    \\begin{bmatrix} A & 0 \\\\ C & D-CA^{-1}B\n",
        "    \\end{bmatrix}\n",
        "$\n",
        "\n",
        "The second step\n",
        "$\n",
        "    \\begin{bmatrix} A & 0 \\\\ C & D-CA^{-1}B\n",
        "    \\end{bmatrix}\n",
        "    \\begin{bmatrix} I_p & A^{-1} B \\\\ 0 & I_q \n",
        "    \\end{bmatrix}\n",
        "    =\n",
        "    \\begin{bmatrix} (A*I_{p}) + 0*0 & (A*A^{-1}B) + (0*I_{p}) \\\\ (C*I_{p})+(0*(D-CA^{-1}B)) & (C*A^{-1}B) + (D-CA^{-1}B*I_{p})\n",
        "    \\end{bmatrix}\n",
        "$"
      ],
      "id": "10LVPwZSXOQN"
    },
    {
      "cell_type": "markdown",
      "metadata": {
        "id": "2a9d6c87-b0b4-4f0d-8d3f-3c870c9cc198"
      },
      "source": [
        "## (b)\n",
        "Describe how a system $M x = b$, with $x$ and $b$ in $\\mathbb{R}^{p+q}$,\n",
        "can be solved by applying matrix-vector products with $C$ and\n",
        "$B$ and solves with $A$ and $(D - CA^{-1}B)$."
      ],
      "id": "2a9d6c87-b0b4-4f0d-8d3f-3c870c9cc198"
    },
    {
      "cell_type": "markdown",
      "metadata": {
        "id": "47a5b7fa-faee-4814-b3f0-850f77b7f067"
      },
      "source": [
        "Write your answer, using $\\LaTeX$, in this box."
      ],
      "id": "47a5b7fa-faee-4814-b3f0-850f77b7f067"
    },
    {
      "cell_type": "markdown",
      "metadata": {
        "id": "e3c88a41-be49-43ed-8819-9b3084bd417e"
      },
      "source": [
        "## (c)\n",
        "What is the cost, to highest order, of LU-factorizing $A$ and of\n",
        "computing and LU-factorizing $D - CA^{-1} B$? "
      ],
      "id": "e3c88a41-be49-43ed-8819-9b3084bd417e"
    },
    {
      "cell_type": "markdown",
      "metadata": {
        "id": "68a32387-f372-4e72-a67b-48b9e89497b2"
      },
      "source": [
        "Write your answer, using $\\LaTeX$, in this box."
      ],
      "id": "68a32387-f372-4e72-a67b-48b9e89497b2"
    },
    {
      "cell_type": "markdown",
      "metadata": {
        "id": "f990d804-c6a0-41fd-a26e-2878b3ec68da"
      },
      "source": [
        "**Remark**: Although in this case no savings were obtained, the decomposition\n",
        "above is very useful for solving linear systems with many zero coefficients,\n",
        "in other words where $M$ is a sparse matrix. After applying a\n",
        "permutation of the indices such a matrix is written in the above\n",
        "form, where $q$ is as small as possible and $A$ is blockdiagonal,\n",
        "i.e. $A = \\begin{bmatrix} E & O \\\\ O & F \\end{bmatrix}$. This\n",
        "blockdiagonal form then causes big savings in computational\n",
        "cost. Moreover, the procedure can be applied recursively to $E$ and $F$."
      ],
      "id": "f990d804-c6a0-41fd-a26e-2878b3ec68da"
    }
  ]
}