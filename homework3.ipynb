{
 "cells": [
  {
   "cell_type": "code",
   "execution_count": 296,
   "metadata": {},
   "outputs": [],
   "source": [
    "import math\n",
    "import numpy as np\n",
    "import scipy.linalg as la\n",
    "import matplotlib.pyplot as plt"
   ]
  },
  {
   "cell_type": "markdown",
   "metadata": {
    "editable": false,
    "jp-MarkdownHeadingCollapsed": true,
    "nbgrader": {
     "cell_type": "markdown",
     "checksum": "3d80af1b1345a294435c4d0a6480336a",
     "grade": false,
     "grade_id": "cell-3a1d8429bc575d6e",
     "locked": true,
     "schema_version": 3,
     "solution": false,
     "task": false
    },
    "tags": []
   },
   "source": [
    "-----\n",
    "# Exercise 1"
   ]
  },
  {
   "cell_type": "markdown",
   "metadata": {
    "editable": false,
    "nbgrader": {
     "cell_type": "markdown",
     "checksum": "c618486971ea88788fac0d41389e0abf",
     "grade": false,
     "grade_id": "cell-013042cafca10b84",
     "locked": true,
     "schema_version": 3,
     "solution": false,
     "task": false
    }
   },
   "source": [
    "# (a)\n",
    "We have the table of data in the next cell.\n",
    "\n",
    "Using `numpy.linalg.lstsq()`, fit a straight line, a quadratic function, and a cubic function to these data. Plot the data and your fitted functions in a graph. It is **not** allowed to use numpy.polyfit, but you may have a look at the documentation to see some examples."
   ]
  },
  {
   "cell_type": "code",
   "execution_count": 2,
   "metadata": {},
   "outputs": [],
   "source": [
    "t = np.array([3, 11, 29, 32, 47, 63, 73, 99])\n",
    "w = np.array([74, 72, 52, 35, 37, 20, 19, 19])"
   ]
  },
  {
   "cell_type": "code",
   "execution_count": 3,
   "metadata": {
    "nbgrader": {
     "cell_type": "code",
     "checksum": "7a89bebc5fd4ea78a6029d4d3e03b6e3",
     "grade": true,
     "grade_id": "cell-749cd4dac54dfb07",
     "locked": false,
     "points": 2,
     "schema_version": 3,
     "solution": true,
     "task": false
    }
   },
   "outputs": [],
   "source": [
    "# YOUR CODE HERE"
   ]
  },
  {
   "cell_type": "code",
   "execution_count": 5,
   "metadata": {},
   "outputs": [
    {
     "data": {
      "image/png": "[encoded data removed]",
      "text/plain": [
       "<Figure size 432x288 with 1 Axes>"
      ]
     },
     "metadata": {
      "needs_background": "light"
     },
     "output_type": "display_data"
    }
   ],
   "source": [
    "# This plots the points\n",
    "plt.plot(t,w, 'ro')\n",
    "plt.xlabel(\"t\")\n",
    "plt.ylabel(\"w\")\n",
    "plt.show()"
   ]
  },
  {
   "cell_type": "code",
   "execution_count": 42,
   "metadata": {
    "scrolled": false
   },
   "outputs": [
    {
     "data": {
      "image/png": "[encoded data removed]",
      "text/plain": [
       "<Figure size 432x288 with 1 Axes>"
      ]
     },
     "metadata": {
      "needs_background": "light"
     },
     "output_type": "display_data"
    }
   ],
   "source": [
    "A = np.vstack([t, np.ones(len(t))]).T\n",
    "m_line, c_line = np.linalg.lstsq(A,w, rcond=None)[0]\n",
    "\n",
    "plt.plot(t,w, 'o', label='Original Data')\n",
    "plt.plot(t, m_line * t + c_line, 'r', label = 'Fitted Line')\n",
    "plt.legend()\n",
    "plt.show()"
   ]
  },
  {
   "cell_type": "code",
   "execution_count": 47,
   "metadata": {
    "scrolled": true
   },
   "outputs": [
    {
     "data": {
      "text/plain": [
       "array([599.66643493])"
      ]
     },
     "execution_count": 47,
     "metadata": {},
     "output_type": "execute_result"
    }
   ],
   "source": [
    "np.linalg.lstsq(A,w, rcond=None)[1]"
   ]
  },
  {
   "cell_type": "code",
   "execution_count": 35,
   "metadata": {},
   "outputs": [],
   "source": [
    "A = np.vstack([t**2,t,np.ones(len(t))]).T\n",
    "m1, m2, m3 = np.linalg.lstsq(A,w, rcond=None)[0]"
   ]
  },
  {
   "cell_type": "code",
   "execution_count": 36,
   "metadata": {},
   "outputs": [
    {
     "data": {
      "text/plain": [
       "(0.008121177282633263, -1.4475442266554877, 81.94068683735087)"
      ]
     },
     "execution_count": 36,
     "metadata": {},
     "output_type": "execute_result"
    }
   ],
   "source": [
    "m1, m2, m3"
   ]
  },
  {
   "cell_type": "code",
   "execution_count": 37,
   "metadata": {
    "scrolled": true
   },
   "outputs": [
    {
     "data": {
      "image/png": "[encoded data removed]",
      "text/plain": [
       "<Figure size 432x288 with 1 Axes>"
      ]
     },
     "metadata": {
      "needs_background": "light"
     },
     "output_type": "display_data"
    }
   ],
   "source": [
    "plt.plot(t,w, 'o', label='Original Data')\n",
    "plt.plot(t, (m1 * t**2) + (m2* t) + m3, 'r', label = 'Quadratic formula')\n",
    "plt.legend()\n",
    "plt.show()"
   ]
  },
  {
   "cell_type": "code",
   "execution_count": 38,
   "metadata": {},
   "outputs": [
    {
     "data": {
      "text/plain": [
       "array([ 4.10396441e-05,  1.85241585e-03, -1.20268581e+00,  8.01852511e+01])"
      ]
     },
     "execution_count": 38,
     "metadata": {},
     "output_type": "execute_result"
    }
   ],
   "source": [
    "np.polyfit(t, w, 3)"
   ]
  },
  {
   "cell_type": "code",
   "execution_count": 39,
   "metadata": {},
   "outputs": [],
   "source": [
    "A = np.vstack([t**3,t**2,t,np.ones(len(t))]).T\n",
    "m1, m2, m3, m4 = np.linalg.lstsq(A,w, rcond=None)[0]"
   ]
  },
  {
   "cell_type": "code",
   "execution_count": 41,
   "metadata": {},
   "outputs": [
    {
     "data": {
      "image/png": "[encoded data removed]",
      "text/plain": [
       "<Figure size 432x288 with 1 Axes>"
      ]
     },
     "metadata": {
      "needs_background": "light"
     },
     "output_type": "display_data"
    }
   ],
   "source": [
    "plt.plot(t,w, 'o', label='Original Data')\n",
    "plt.plot(t, (m1*t**3)+(m2 * t**2) + (m3* t) + m4, 'r', label = 'Cubic formula')\n",
    "plt.legend()\n",
    "plt.show()"
   ]
  },
  {
   "cell_type": "markdown",
   "metadata": {},
   "source": [
    "-----\n",
    "# Exercise 2\n",
    "We want to reconstruct a function $s(t)$ (also called the signal in this exercise), $t \\in [0,1]$, from data given by\n",
    "$$d(t) = \\int_0^1 s(t) \\, dt + \\text{noise}.$$\n",
    "We assume the data is given at $n$ equally space time points $t_j = j h$, $h = \\frac{1}{n}$, $j=1,2, \\ldots, n$. The data is therefore a vector $d = [d_1, \\ldots, d_n]$, where $d_j$ denotes the value at $t_j$. \n",
    "The signal $s$ is to be reconstructed at time points \n",
    "$t_{j-1/2} = (j-1/2)h$ for $j = 1,2, \\ldots, n$. It is described by a vector $s = [s_1, \\ldots, s_n]$ with $s_j$ the value at $t_{j-1/2}$.\n",
    "Numerical integration is described in Chapter 8 of the book by Heath. Using the composite midpoint rule, the vectors $s$ and $d$ are related by\n",
    "$$d = A \\cdot s + \\text{noise}$$\n",
    "where\n",
    "$$A = \\begin{bmatrix} \n",
    "h & 0 & 0 & \\ldots & 0 \\\\\n",
    "h & h & 0 & \\ldots & 0 \\\\\n",
    "h & h & h & \\ddots &  \\vdots \\\\\n",
    "\\vdots & \\vdots & \\ddots & \\ddots & 0 \\\\\n",
    "h & h & \\ldots & h  & h \n",
    "\\end{bmatrix}.$$\n"
   ]
  },
  {
   "cell_type": "markdown",
   "metadata": {},
   "source": [
    "## (a)\n",
    "As a test signal we take\n",
    "$$s_{\\rm true}(t) = \\left\\{\n",
    "\\begin{array}{ll} 1 & \\text{if $|t-1/2|<0.15$}\\\\\n",
    "0 & \\text{otherwise} \\end{array} \n",
    "\\right. .$$ \n",
    "Generate data $d_0$ without noise and data $d_\\epsilon$ with noise, where the noise is normally distributed, with mean zero and standard deviation $\\epsilon = 0.005$.\n",
    "Take for example $n=100$. Plot the data."
   ]
  },
  {
   "cell_type": "code",
   "execution_count": 273,
   "metadata": {},
   "outputs": [],
   "source": [
    "tj = []\n",
    "n = 100\n",
    "\n",
    "#j, t, \n",
    "for j in range(1, n + 1):\n",
    "    tj.append(j*1/n)"
   ]
  },
  {
   "cell_type": "code",
   "execution_count": 274,
   "metadata": {},
   "outputs": [],
   "source": [
    "# This generates s without noise\n",
    "s_nonoise = []\n",
    "\n",
    "for i in tj:\n",
    "    if (abs(i - 0.5)) < 0.15:\n",
    "        s_nonoise.append([1])\n",
    "    else:\n",
    "        s_nonoise.append([0])"
   ]
  },
  {
   "cell_type": "code",
   "execution_count": 275,
   "metadata": {},
   "outputs": [],
   "source": [
    "s_noise = []\n",
    "\n",
    "for i in s_nonoise:\n",
    "    s_noise.append(np.array(i)+np.random.normal(0, 0.005))"
   ]
  },
  {
   "cell_type": "code",
   "execution_count": 276,
   "metadata": {},
   "outputs": [],
   "source": [
    "A = np.full((n,n), 1/n)\n",
    "A = np.tril(A)\n",
    "\n",
    "d0 = np.matmul(A, s)\n",
    "de = np.matmul(A, s_noise)"
   ]
  },
  {
   "cell_type": "markdown",
   "metadata": {},
   "source": [
    "## (b)\n",
    "Try to determine $s$ from $d_0$ by inverting the matrix $A$, ignoring the noise term.\n",
    "Do the same with $d_\\epsilon$ instead of $d_0$. Plot the results. What do you observe about the errors in the inversion?"
   ]
  },
  {
   "cell_type": "code",
   "execution_count": 278,
   "metadata": {
    "scrolled": false
   },
   "outputs": [],
   "source": [
    "d0_results = np.matmul(np.linalg.inv(A),d0)\n",
    "de_results = np.matmul(np.linalg.inv(A),de)"
   ]
  },
  {
   "cell_type": "code",
   "execution_count": 277,
   "metadata": {},
   "outputs": [
    {
     "data": {
      "image/png": "[encoded data removed]",
      "text/plain": [
       "<Figure size 432x288 with 2 Axes>"
      ]
     },
     "metadata": {
      "needs_background": "light"
     },
     "output_type": "display_data"
    }
   ],
   "source": [
    "fig, axs = plt.subplots(2)\n",
    "axs[0].plot(s_nonoise)\n",
    "axs[1].plot(d0_results)\n",
    "plt.show()\n"
   ]
  },
  {
   "cell_type": "code",
   "execution_count": 252,
   "metadata": {},
   "outputs": [
    {
     "data": {
      "image/png": "[encoded data removed]",
      "text/plain": [
       "<Figure size 432x288 with 2 Axes>"
      ]
     },
     "metadata": {
      "needs_background": "light"
     },
     "output_type": "display_data"
    }
   ],
   "source": [
    "fig, axs = plt.subplots(2)\n",
    "axs[0].plot(s_noise)\n",
    "axs[1].plot(de_results)\n",
    "plt.show()"
   ]
  },
  {
   "cell_type": "markdown",
   "metadata": {
    "tags": []
   },
   "source": [
    "## (c)\n",
    "Create a function to solve the linear system $A s = d$ using the singular value decomposition (SVD) $A = U \\Sigma V^T$ and run a test to verify that your function is correct. `numpy` and `scipy` contain functions to compute the SVD. These may be used.\n",
    "\n",
    "Then plot the singular values of the matrix $A$ and explain the behavior found in (b) using the SVD."
   ]
  },
  {
   "cell_type": "code",
   "execution_count": 327,
   "metadata": {},
   "outputs": [],
   "source": [
    "# This factors A as an SVD\n",
    "U, s, Vh = la.svd(A)"
   ]
  },
  {
   "cell_type": "code",
   "execution_count": 328,
   "metadata": {},
   "outputs": [
    {
     "data": {
      "text/plain": [
       "True"
      ]
     },
     "execution_count": 328,
     "metadata": {},
     "output_type": "execute_result"
    }
   ],
   "source": [
    "# Checks if A = SVD\n",
    "m,n = 100, 100\n",
    "sigma = np.zeros((m, n))\n",
    "\n",
    "for i in range(min(m, n)):\n",
    "\n",
    "    sigma[i, i] = s[i]\n",
    "\n",
    "a1 = np.dot(U, np.dot(sigma, Vh))\n",
    "\n",
    "np.allclose(A, a1)"
   ]
  },
  {
   "cell_type": "code",
   "execution_count": 336,
   "metadata": {},
   "outputs": [],
   "source": [
    "def solve_svd(A,b):\n",
    "    # compute svd of A\n",
    "    U,s,Vh = la.svd(A)\n",
    "\n",
    "    # U diag(s) Vh x = b <=> diag(s) Vh x = U.T b = c\n",
    "    c = np.dot(U.T,b)\n",
    "    # diag(s) Vh x = c <=> Vh x = diag(1/s) c = w (trivial inversion of a diagonal matrix)\n",
    "    w = np.dot(np.diag(1/s),c)\n",
    "    # Vh x = w <=> x = Vh.H w (where .H stands for hermitian = conjugate transpose)\n",
    "    x = np.dot(Vh.conj().T,w)\n",
    "    return x"
   ]
  },
  {
   "cell_type": "code",
   "execution_count": 340,
   "metadata": {},
   "outputs": [],
   "source": [
    "x=solve_svd(A, d0)\n",
    "x1=noise=solve_svd(A, de)"
   ]
  },
  {
   "cell_type": "code",
   "execution_count": 329,
   "metadata": {},
   "outputs": [],
   "source": [
    "# This solves a linear system using svd\n",
    "c = np.dot(U.T, d0)\n",
    "w = np.dot(np.diag(1/s), c)\n",
    "x = np.dot(Vh.conj().T, w)"
   ]
  },
  {
   "cell_type": "code",
   "execution_count": 332,
   "metadata": {},
   "outputs": [],
   "source": [
    "# This solves a linear system using svd\n",
    "c_noise = np.dot(U.T, de)\n",
    "w_noise = np.dot(np.diag(1/s), c_noise)\n",
    "x_noise = np.dot(Vh.conj().T, w_noise)"
   ]
  },
  {
   "cell_type": "code",
   "execution_count": 341,
   "metadata": {},
   "outputs": [
    {
     "name": "stdout",
     "output_type": "stream",
     "text": [
      "[0] 0.6398093836984178 [-0.01205744] [-0.01205744]\n",
      "[0] 0.2132871622638028 [0.00301787] [0.00301787]\n",
      "[0] 0.12799314215998114 [-0.0044204] [-0.0044204]\n",
      "[0] 0.09144601305462131 [0.00347864] [0.00347864]\n",
      "[0] 0.07114785356235362 [-0.00064836] [-0.00064836]\n",
      "[0] 0.05823559584216334 [0.00309769] [0.00309769]\n",
      "[0] 0.04930036902907951 [-0.00405534] [-0.00405534]\n",
      "[0] 0.04275136792145034 [0.00091179] [0.00091179]\n",
      "[0] 0.037746402595614105 [0.00327924] [0.00327924]\n",
      "[0] 0.033797890370025244 [-0.00497194] [-0.00497194]\n",
      "[0] 0.03060399521908136 [0.00072868] [0.00072868]\n",
      "[0] 0.027967868362967885 [0.00448461] [0.00448461]\n",
      "[0] 0.025755653375030028 [-0.00367108] [-0.00367108]\n",
      "[0] 0.0238731556863191 [0.0050693] [0.0050693]\n",
      "[0] 0.022252166088879415 [-0.00377143] [-0.00377143]\n",
      "[0] 0.0208420783671952 [-0.01038837] [-0.01038837]\n",
      "[0] 0.01960455506422745 [-0.00577427] [-0.00577427]\n",
      "[0] 0.018510022128011668 [0.0023871] [0.0023871]\n",
      "[0] 0.017535300430174865 [0.00104578] [0.00104578]\n",
      "[0] 0.016661966048327353 [-0.00425435] [-0.00425435]\n",
      "[0] 0.015875190466252326 [0.00218778] [0.00218778]\n",
      "[0] 0.015162904439561036 [0.00609008] [0.00609008]\n",
      "[0] 0.014515184830920406 [0.00227554] [0.00227554]\n",
      "[0] 0.013923797998266658 [-0.00264776] [-0.00264776]\n",
      "[0] 0.01338185500689672 [0.00510044] [0.00510044]\n",
      "[0] 0.012883547968272343 [0.00909298] [0.00909298]\n",
      "[0] 0.012423946076260317 [0.0008954] [0.0008954]\n",
      "[0] 0.011998836144782893 [-0.00655279] [-0.00655279]\n",
      "[0] 0.01160459671696173 [-0.00692524] [-0.00692524]\n",
      "[0] 0.01123809777947958 [-0.00067014] [-0.00067014]\n",
      "[0] 0.010896620205664863 [0.00457571] [0.00457571]\n",
      "[0] 0.010577790543064871 [-0.00179362] [-0.00179362]\n",
      "[0] 0.010279527840691988 [-0.00416288] [-0.00416288]\n",
      "[0] 0.00999999999999927 [-0.00053309] [-0.00053309]\n",
      "[0] 0.009737587717456643 [0.01552112] [0.01552112]\n",
      "[1] 0.009490854521634036 [0.99840952] [0.99840952]\n",
      "[1] 0.009258521736140127 [0.99277887] [0.99277887]\n",
      "[1] 0.009039447448782989 [0.99594794] [0.99594794]\n",
      "[1] 0.00883260875873041 [0.99947182] [0.99947182]\n",
      "[1] 0.008637086720602876 [0.99395872] [0.99395872]\n",
      "[1] 0.008452053519553785 [0.99399617] [0.99399617]\n",
      "[1] 0.008276761500847928 [0.99449068] [0.99449068]\n",
      "[1] 0.008110533748702187 [1.00914384] [1.00914384]\n",
      "[1] 0.007952755964915386 [0.99808369] [0.99808369]\n",
      "[1] 0.007802869443013092 [0.99905101] [0.99905101]\n",
      "[1] 0.007660364969233056 [1.00512436] [1.00512436]\n",
      "[1] 0.007524777510949744 [0.9982496] [0.9982496]\n",
      "[1] 0.007395681576455102 [0.99578252] [0.99578252]\n",
      "[1] 0.007272687149251271 [1.00815221] [1.00815221]\n",
      "[1] 0.007155436115589553 [0.99595601] [0.99595601]\n",
      "[1] 0.007043599116981204 [0.99973743] [0.99973743]\n",
      "[1] 0.006936872769807546 [0.99228031] [0.99228031]\n",
      "[1] 0.006834977203263443 [0.99466448] [0.99466448]\n",
      "[1] 0.006737653873870427 [1.00253775] [1.00253775]\n",
      "[1] 0.006644663621140405 [1.00735954] [1.00735954]\n",
      "[1] 0.006555784933945298 [0.99471473] [0.99471473]\n",
      "[1] 0.0064708124015896845 [1.01097857] [1.01097857]\n",
      "[1] 0.006389555327006561 [1.00692479] [1.00692479]\n",
      "[1] 0.006311836482826419 [1.00633627] [1.00633627]\n",
      "[1] 0.0062374909934374625 [0.99775592] [0.99775592]\n",
      "[1] 0.006166365328608658 [1.00209888] [1.00209888]\n",
      "[1] 0.0060983163958266695 [0.99771385] [0.99771385]\n",
      "[1] 0.006033210720529338 [1.00329997] [1.00329997]\n",
      "[1] 0.005970923704417238 [1.00858148] [1.00858148]\n",
      "[0] 0.005911338953482982 [0.00262362] [0.00262362]\n",
      "[0] 0.0058543476683099015 [0.00473545] [0.00473545]\n",
      "[0] 0.005799848090185196 [-0.00625699] [-0.00625699]\n",
      "[0] 0.005747744997146266 [-0.00646622] [-0.00646622]\n",
      "[0] 0.005697949245064069 [0.00610848] [0.00610848]\n",
      "[0] 0.005650377349116477 [-0.00367819] [-0.00367819]\n",
      "[0] 0.005604951101809006 [-0.004497] [-0.004497]\n",
      "[0] 0.005561597223922261 [0.0058989] [0.0058989]\n",
      "[0] 0.005520247045309866 [-0.00028974] [-0.00028974]\n",
      "[0] 0.005480836212709395 [-0.00266771] [-0.00266771]\n",
      "[0] 0.005443304422144281 [0.00362403] [0.00362403]\n",
      "[0] 0.005407595173611262 [0.00094128] [0.00094128]\n",
      "[0] 0.005373655546149915 [-0.00715579] [-0.00715579]\n",
      "[0] 0.0053414359914691276 [-9.77327363e-05] [-9.77327363e-05]\n",
      "[0] 0.005310890144553181 [0.00110088] [0.00110088]\n",
      "[0] 0.0052819746498144055 [-0.00337794] [-0.00337794]\n",
      "[0] 0.005254649001529783 [-0.00473306] [-0.00473306]\n",
      "[0] 0.0052288753973901946 [0.00052442] [0.00052442]\n",
      "[0] 0.005204618604157371 [-0.00629877] [-0.00629877]\n",
      "[0] 0.005181845834433159 [-0.00238195] [-0.00238195]\n",
      "[0] 0.005160526633814926 [-0.0064774] [-0.0064774]\n",
      "[0] 0.005140632777587768 [0.00113695] [0.00113695]\n",
      "[0] 0.005122138176310194 [-0.00451032] [-0.00451032]\n",
      "[0] 0.00510501878972263 [-0.00319016] [-0.00319016]\n",
      "[0] 0.005089252548361893 [0.0046747] [0.0046747]\n",
      "[0] 0.005074819282482289 [0.00073626] [0.00073626]\n",
      "[0] 0.005061700657762229 [0.00216719] [0.00216719]\n",
      "[0] 0.005049880117463421 [-0.00381581] [-0.00381581]\n",
      "[0] 0.005039342830677022 [-0.0002072] [-0.0002072]\n",
      "[0] 0.00503007564637372 [-0.00106804] [-0.00106804]\n",
      "[0] 0.005022067052919264 [-0.01229785] [-0.01229785]\n",
      "[0] 0.005015307142930622 [-0.0010886] [-0.0010886]\n",
      "[0] 0.005009787583179215 [0.010616] [0.010616]\n",
      "[0] 0.005005501589413569 [0.00049078] [0.00049078]\n",
      "[0] 0.0050024439059502546 [0.00183312] [0.00183312]\n",
      "[0] 0.005000610789901383 [0.00252] [0.00252]\n"
     ]
    }
   ],
   "source": [
    "for i in range(len(x)):\n",
    "    print(s_nonoise[i], x[i], s_noise[i], x1[i])"
   ]
  },
  {
   "cell_type": "code",
   "execution_count": 314,
   "metadata": {},
   "outputs": [
    {
     "data": {
      "text/plain": [
       "127.94624708457609"
      ]
     },
     "execution_count": 314,
     "metadata": {},
     "output_type": "execute_result"
    }
   ],
   "source": [
    "# Condition number of matrix A\n",
    "sigma[0][0]/sigma[-1][-1]"
   ]
  },
  {
   "cell_type": "code",
   "execution_count": 321,
   "metadata": {},
   "outputs": [
    {
     "data": {
      "text/plain": [
       "[]"
      ]
     },
     "execution_count": 321,
     "metadata": {},
     "output_type": "execute_result"
    },
    {
     "data": {
      "image/png": "[encoded data removed]",
      "text/plain": [
       "<Figure size 432x288 with 1 Axes>"
      ]
     },
     "metadata": {
      "needs_background": "light"
     },
     "output_type": "display_data"
    }
   ],
   "source": [
    "plt.plot(np.diagonal(sigma), 'ro')\n",
    "plt.plot()"
   ]
  },
  {
   "cell_type": "markdown",
   "metadata": {},
   "source": []
  },
  {
   "cell_type": "markdown",
   "metadata": {},
   "source": [
    "## (d)\n",
    "When solving the system using the SVD, the matrix $\\Sigma^{-1} = \n",
    "\\operatorname{diag}(\\sigma_1^{-1}, \\ldots, \\sigma_n^{-1})$ is used. \n",
    "To **regularize** the problem the matrix $\\Sigma^{-1}$ can be replaced by a matrix \n",
    "$$T = \\operatorname{diag}(\\sigma_1^{-1} , \\ldots, \\sigma_k^{-1}, 0, \\ldots 0 ),$$\n",
    "where $\\sigma_j^{-1}$ is replaced by $0$ if $\\sigma_j$ is smaller than a threshold $\\alpha$. \n",
    "\n",
    "Implement a function `TruncatedSVDSolve(A, b, alpha)` that performs this procedure. \n",
    "Find a value of $\\alpha$ such that the test signal $s$ is reconstructed reasonably well from the noisy data. Plot the result.\n",
    "\n",
    "Explain that in the presence of noise, the result of `TruncatedSVDSolve(A, b, alpha)` can be more accurate than exact inversion."
   ]
  },
  {
   "cell_type": "code",
   "execution_count": null,
   "metadata": {},
   "outputs": [],
   "source": [
    "# YOUR CODE HERE"
   ]
  },
  {
   "cell_type": "markdown",
   "metadata": {},
   "source": []
  }
 ],
 "metadata": {
  "kernelspec": {
   "display_name": "Python 3",
   "language": "python",
   "name": "python3"
  },
  "language_info": {
   "codemirror_mode": {
    "name": "ipython",
    "version": 3
   },
   "file_extension": ".py",
   "mimetype": "text/x-python",
   "name": "python",
   "nbconvert_exporter": "python",
   "pygments_lexer": "ipython3",
   "version": "3.8.5"
  }
 },
 "nbformat": 4,
 "nbformat_minor": 5
}
