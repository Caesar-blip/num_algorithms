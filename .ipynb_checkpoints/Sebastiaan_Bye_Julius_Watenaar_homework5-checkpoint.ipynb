{
 "cells": [
  {
   "cell_type": "markdown",
   "metadata": {},
   "source": [
    "# Homeworkset 5\n",
    "\n",
    "Julius Wantenaar 11339055, Sebastiaan Bye 14084880"
   ]
  },
  {
   "cell_type": "markdown",
   "metadata": {
    "id": "50472bda-279b-416b-9c5b-6fc3b1ff814c",
    "tags": []
   },
   "source": [
    "# Exercise 1 (6 points)\n",
    "\n",
    "A bacterial population $P$ grows according to the geometric progression\n",
    "\n",
    "$$P_t = rP_{t-1}$$\n",
    "\n",
    "Where r is the growth rate. The following population counts $P_1 ,\\ldots, P_8$ (in billions) are observed:"
   ]
  },
  {
   "cell_type": "code",
   "execution_count": null,
   "metadata": {
    "id": "05ff320c-517a-45da-99a8-ca87efc419a7"
   },
   "outputs": [],
   "source": [
    "# This imports packages and data\n",
    "\n",
    "import numpy as np\n",
    "import jax.numpy as jnp\n",
    "from jax import grad, jit, vmap\n",
    "from jax import jacfwd, jacrev \n",
    "import scipy.linalg as la\n",
    "import matplotlib.pyplot as plt\n",
    "\n",
    "data = np.array( [0.19, 0.36, 0.69, 1.3, 2.5, 4.7, 8.5, 14] )"
   ]
  },
  {
   "cell_type": "markdown",
   "metadata": {
    "id": "e7bc3b80-e915-4854-a878-35d0ba645f80"
   },
   "source": [
    "# (a)\n",
    "Read chapter 6.6 on Nonlinear Least squares. Use the Gauss-Newton Method to fit the model function $f(t, x_1, x_2) = x_1\\!\\cdot x_2^t$ to the data. Find estimates for the initial population $P_0=x_1$ and the growth rate $r=x_2$. Implement the Gauss-Newton method yourself (you may use linear algebra functions from `scipy` and `numpy`). "
   ]
  },
  {
   "cell_type": "code",
   "execution_count": null,
   "metadata": {
    "id": "c492fe88-c321-4b8c-9bd8-236f815b1369"
   },
   "outputs": [],
   "source": [
    "# This section implements the Gauss-Netwon method\n",
    "\n",
    "def f(t, x1, x2):\n",
    "  return x1*jnp.exp(x2*t)\n",
    "\n",
    "def fquestion(t, x1, x2):\n",
    "  return x1 * x2**t\n",
    "\n",
    "def res(f, t, x, y):\n",
    "  return y - f(t, x[0], x[1])\n",
    "\n",
    "def buildJacob(f, t, x):\n",
    "  arr = np.zeros((len(t), len(x)))\n",
    "  for column in range(arr.shape[1]):\n",
    "    func = grad(f, argnums=column+1)\n",
    "    for row in range(arr.shape[0]):\n",
    "      arr[row][column] = func(t[row], x[0], x[1])\n",
    "  return arr*-1\n",
    "\n",
    "def solver(ittol, ytol, f, t, x, y):\n",
    "  i = 0\n",
    "  while (True):\n",
    "    minr = res(f, t, x, y) * -1\n",
    "    jacob = buildJacob(f, t, x)\n",
    "    solve = la.lstsq(jacob, minr)\n",
    "    xnew = x + solve[0]\n",
    "    if (ytol > solve[1] or i > ittol):\n",
    "      break\n",
    "    x = xnew\n",
    "    i += 1\n",
    "  return xnew\n"
   ]
  },
  {
   "cell_type": "code",
   "execution_count": null,
   "metadata": {
    "colab": {
     "base_uri": "https://localhost:8080/"
    },
    "id": "r7kYYke0GhpW",
    "outputId": "25958d15-9219-4f48-cfa9-aa25218753a2"
   },
   "outputs": [
    {
     "data": {
      "text/plain": [
       "array([ 1.99500328, -1.00952444])"
      ]
     },
     "execution_count": 84,
     "metadata": {},
     "output_type": "execute_result"
    }
   ],
   "source": [
    "# This tests if the method is implemented correctly by using data from example 6.15 from the book\n",
    "t = jnp.array([0.0,1.0,2.0,3.0])\n",
    "y = jnp.array([2.0,0.7,0.3,0.1])\n",
    "\n",
    "solver(10, 0.0002, f, t, np.array([1.0,0.0]), y)"
   ]
  },
  {
   "cell_type": "markdown",
   "metadata": {
    "id": "h39erzH_HEYw"
   },
   "source": [
    "The result of example 6.15 in Scientific Computing book is $\\begin{bmatrix} 1.995 & -1.010 \\end{bmatrix}^{T}$. The answer found using the implemented method is $\\begin{bmatrix} 1.99500328 & -1.0095244  \\end{bmatrix}^{T}$. Thus the function has been correctly implemented."
   ]
  },
  {
   "cell_type": "code",
   "execution_count": null,
   "metadata": {
    "colab": {
     "base_uri": "https://localhost:8080/"
    },
    "id": "vwHd4Vu7c5W7",
    "outputId": "644c2a2b-a8a6-4903-aaf3-b75218993b33"
   },
   "outputs": [
    {
     "name": "stderr",
     "output_type": "stream",
     "text": [
      "/usr/local/lib/python3.7/dist-packages/ipykernel_launcher.py:27: DeprecationWarning: The truth value of an empty array is ambiguous. Returning False, but in future this will result in an error. Use `array.size > 0` to check that an array is not empty.\n"
     ]
    }
   ],
   "source": [
    "# This solves the problem as posed in 1.a\n",
    "\n",
    "y = np.array( [0.19, 0.36, 0.69, 1.3, 2.5, 4.7, 8.5, 14] )\n",
    "t = np.arange(len(y))\n",
    "\n",
    "ans = solver(10, 0.0002, fquestion, t, np.array([0.0,2.0]), y)"
   ]
  },
  {
   "cell_type": "code",
   "execution_count": null,
   "metadata": {
    "colab": {
     "base_uri": "https://localhost:8080/",
     "height": 279
    },
    "id": "KNY3lClAdTI5",
    "outputId": "f73ed7a7-aa42-4ba4-c8fa-9738c02aa384"
   },
   "outputs": [
    {
     "data": {
      "image/png": "[encoded data removed]",
      "text/plain": [
       "<Figure size 432x288 with 1 Axes>"
      ]
     },
     "metadata": {
      "needs_background": "light"
     },
     "output_type": "display_data"
    }
   ],
   "source": [
    "# This plots the data\n",
    "\n",
    "plt.plot(t, y, 'ro', label = 'Data')\n",
    "plt.plot(t,  ans[0] * ans[1]**t, label = f'Gauss-Netwon: {ans[0]} * {ans[1]}^t')\n",
    "plt.xlabel('t')\n",
    "plt.ylabel('y')\n",
    "plt.legend()\n",
    "plt.show()"
   ]
  },
  {
   "cell_type": "markdown",
   "metadata": {
    "id": "lmQYEoRjIMp4"
   },
   "source": [
    "The plot above shows that Gauss-Netwon is not an appropriate method to estimate the data. It finds the functions $0.2827706 * 1.74940287^{t}$ in 10 iterations. "
   ]
  },
  {
   "cell_type": "markdown",
   "metadata": {
    "id": "b56e7014-dda8-4984-8fce-d0a5a16d046f"
   },
   "source": [
    "# (b)\n",
    "Let $f$ be a vector valued function $f = [ f_1, \\ldots, f_m ]^T$. In weighted least squares one aims to minimize the objective function\n",
    "$$\n",
    "  \\phi(x) = \\frac{1}{2} \\sum_{i=1}^m W_{ii} ( y_i - f_i(x)) ^2 , \\qquad\n",
    "  W_{ii} = \\frac{1}{\\sigma_i^2} , \n",
    "$$\n",
    "where $\\sigma_i$ is an estimate of the standard deviation in the data point $y_i$. This is equivalent to the standard least squares problem \n",
    "$$\n",
    "\\min_x \\frac{1}{2} \\| Y - F(x) \\|_2^2\n",
    "$$\n",
    "with $F_i(x) = \\frac{1}{\\sigma_i} f(x)$  , $Y_i = \\frac{1}{\\sigma_i} y_i$. Assume that for each data point $y_i$ in the list above, the estimate for the standard deviation is given by\n",
    "$$\n",
    "  \\sigma_i = 0.05 y_i .\n",
    "$$ \n",
    "Perform a weighted least squares fit to obtain estimates for $P_0$ and $r$. \n",
    "\n",
    "Plot the results of (a) and (b), showing the data points and the fitted curve. Compare the residuals\n",
    "(the values of $y_i - f_i(x)$) obtained in (a) and (b) and discuss the differences between the results of the weighted and the unweighted optimization.\n"
   ]
  },
  {
   "cell_type": "code",
   "execution_count": null,
   "metadata": {
    "id": "Mc_SXt1-RNkC"
   },
   "outputs": [],
   "source": [
    "def resWeighted(f, t, x, y, w, sigma):\n",
    "  return y/sigma - f(t, x[0], x[1])/sigma\n",
    "\n",
    "def buildJacobWeighted(f, t, x, sigma):\n",
    "  arr = np.zeros((len(t), len(x)))\n",
    "  for column in range(arr.shape[1]):\n",
    "    func = grad(f, argnums=column+1)\n",
    "    for row in range(arr.shape[0]):\n",
    "      arr[row][column] = func(t[row], x[0], x[1])/sigma[row]\n",
    "  return arr*-1\n",
    "\n",
    "def solverWeighted(ittol, ytol, f, t, x, y):\n",
    "  i = 0\n",
    "  sigma = y*0.05\n",
    "  w = 1/(sigma**2)\n",
    "  while (True):\n",
    "    minr = resWeighted(f, t, x, y, w, sigma) * -1\n",
    "    jacob = buildJacobWeighted(f, t, x, sigma)\n",
    "    solve = la.lstsq(jacob, minr)\n",
    "    xnew = x + solve[0]\n",
    "    if (ytol > solve[1] or i > ittol):\n",
    "      break\n",
    "    x = xnew\n",
    "    i += 1\n",
    "  return xnew"
   ]
  },
  {
   "cell_type": "code",
   "execution_count": null,
   "metadata": {
    "colab": {
     "base_uri": "https://localhost:8080/"
    },
    "id": "NB4v69bsSXlS",
    "outputId": "f8f3f52f-f008-4bc0-d2da-5cf0a72d6939"
   },
   "outputs": [
    {
     "name": "stderr",
     "output_type": "stream",
     "text": [
      "/usr/local/lib/python3.7/dist-packages/ipykernel_launcher.py:21: DeprecationWarning: The truth value of an empty array is ambiguous. Returning False, but in future this will result in an error. Use `array.size > 0` to check that an array is not empty.\n"
     ]
    }
   ],
   "source": [
    "y = np.array( [0.19, 0.36, 0.69, 1.3, 2.5, 4.7, 8.5, 14] )\n",
    "t = np.arange(len(y))\n",
    "\n",
    "ans2 = solverWeighted(10, 0.0002, fquestion, t, np.array([0.0,2.0]), y)"
   ]
  },
  {
   "cell_type": "code",
   "execution_count": null,
   "metadata": {
    "colab": {
     "base_uri": "https://localhost:8080/",
     "height": 282
    },
    "id": "lTUER4aDhsHS",
    "outputId": "b3d07639-2e8f-46ed-f635-4ee22647d412"
   },
   "outputs": [
    {
     "data": {
      "image/png": "[encoded data removed]",
      "text/plain": [
       "<Figure size 432x288 with 1 Axes>"
      ]
     },
     "metadata": {
      "needs_background": "light"
     },
     "output_type": "display_data"
    }
   ],
   "source": [
    "plt.plot(t, y, label=\"Data\", marker=\"o\")\n",
    "plt.plot(t,ans2[0] * ans2[1]**t, label=\"Weighted least squares\")\n",
    "plt.plot(t,ans[0] * ans[1]**t, label=\"Gauss-Newton\")\n",
    "plt.legend()\n",
    "plt.xlabel(\"t\")\n",
    "plt.ylabel(\"y\")\n",
    "plt.show()"
   ]
  },
  {
   "cell_type": "code",
   "execution_count": null,
   "metadata": {
    "id": "pzLK1xlykKfs"
   },
   "outputs": [],
   "source": [
    "def residuals(y, f, x):\n",
    "  res = []\n",
    "  t = np.arange(len(y))\n",
    "  for count, value in enumerate(y):\n",
    "    res.append(value - f(t[count], x[0], x[1]))\n",
    "\n",
    "  return res"
   ]
  },
  {
   "cell_type": "code",
   "execution_count": null,
   "metadata": {
    "colab": {
     "base_uri": "https://localhost:8080/"
    },
    "id": "1E7QrINTkjOt",
    "outputId": "389995e8-344d-41bd-ea4f-9b086233ea8c"
   },
   "outputs": [
    {
     "name": "stdout",
     "output_type": "stream",
     "text": [
      "[-0.09277060094382339, -0.13467970188355577, -0.1753940920266267, -0.21392291145771947, -0.1484610918352538, 0.06677455511176333, 0.3946220923017716, -0.17957140399570193]\n",
      "[-0.0073659389828565625, -0.007490519884559177, 0.005741698385180127, 0.025927886586359694, 0.12770908829680616, 0.2828527204233211, 0.2753805010939683, -1.3140390438301264]\n",
      "1.406196449556216\n",
      "2.0465073974831776\n"
     ]
    }
   ],
   "source": [
    "resNewton = residuals(y, fquestion, ans)\n",
    "resLstsq = residuals(y, fquestion, ans2)\n",
    "\n",
    "print(resNewton)\n",
    "print(resLstsq)\n",
    "\n",
    "sumN = 0\n",
    "sumW = 0 \n",
    "for i in range(len(resNewton)):\n",
    "  sumN += np.sqrt(resNewton[i]**2)\n",
    "  sumW += np.sqrt(resLstsq[i]**2)\n",
    "print(sumN)\n",
    "print(sumW)"
   ]
  },
  {
   "cell_type": "markdown",
   "metadata": {
    "id": "c5d90471-4796-4f6d-b6ab-844805bf3d82"
   },
   "source": [
    "The above plot shows both the Gauss-Netwon approximation and weighted least squared fit. The residuals for each point using Gauss-Netwon approximation can be found in the table bellow. From this table it is obvious that the Gauss-Netwon approach has greater error in fitting the data than weighted least squares.\n",
    "\n",
    "$$\\begin{array}{c||c|c|c|c|c|c|c|c}\n",
    "\\text{Gauss Netwon} & -0.0927& -0.1346& -0.1753& -0.2139& -0.1484& 0.0667& 0.3946& -0.1795 \\\\\n",
    "\\text{Weighted} & -0.0073& -0.0074& 0.0057& 0.02592& 0.1277& 0.2828& 0.2753& -1.3140\n",
    "\\end{array}\n",
    "$$\n",
    "\n",
    "We observe that the weighted Gauss-Newton has decreased residuals for small values of Y, and increased residuals for large values of Y. This gives a more stable standard deviation for the data. However, the sum of residuals is larger for weighted least squares, 2.05 vs 1.41."
   ]
  },
  {
   "cell_type": "markdown",
   "metadata": {
    "id": "2f0cbd35-09de-449a-80d5-c4da70b394bc"
   },
   "source": [
    "# Exercise 2 (3 points)\n",
    "A triangle has been measured. The measurements, a vector $x \\in \\mathbb{R}^6$, are as follows:\n",
    "$$\\begin{array}{c|c|c|c|c|c}\n",
    "x_1 = \\alpha \n",
    "& x_2 = \\beta\n",
    "& x_3 = \\gamma\n",
    "& x_4 = a\n",
    "& x_5 = b\n",
    "& x_6 = c \\\\ \\hline\n",
    "67.5^{\\large\\circ}\n",
    "& 52^{\\large\\circ}\n",
    "& 60^{\\large\\circ}\n",
    "& 172 \\text{m}\n",
    "& 146 \\text{m}\n",
    "& 165 \\text{m}\n",
    "\\end{array} .\n",
    "$$\n",
    "Here $\\alpha, \\beta, \\gamma$ are the angles opposite the sides with length $a$, $b$, $c$, respectively.\n",
    "The measurements $x$ have errors. We would like to correct them so that the new values $\\tilde{x} = x + h$ are consistent quantities of a triangle. The have to satisfy:\n",
    "$$ \\tag{*}\n",
    "\\begin{array}{ccc}\n",
    "\\text{Sum of angles:} \n",
    "& \\;\\;\\;\\;\\; & \n",
    "\\tilde{x}_1 + \\tilde{x}_2 + \\tilde{x}_3 = 180^{\\large\\circ}\n",
    "\\\\\n",
    "\\text{Sine theorem:}\n",
    "&&\n",
    "\\tilde{x}_4 \\sin(\\tilde{x}_2) - \\tilde{x}_5 \\sin(\\tilde{x}_1) = 0\n",
    "\\\\\n",
    "&&\n",
    "\\tilde{x}_5 \\sin(\\tilde{x}_3) - \\tilde{x}_6 \\sin(\\tilde{x}_2) = 0 .\n",
    "\\end{array}$$\n"
   ]
  },
  {
   "cell_type": "markdown",
   "metadata": {
    "id": "a86c5137-9cf9-4f1e-9376-a2ca28ab2dd9"
   },
   "source": [
    "## (a)\n",
    "Solve the constrained least squares problem $\\min_x \\| h \\|_2^2$ subject to the constraints given by (*).\n",
    "\n",
    "Use `scipy.optimize.minimize`.\n",
    "\n",
    "Hint: Don't forget to work in radians!\n",
    "\n",
    "Check that for the new values also e.g. the cosine theorem $c^2 = a^2 + b^2 - 2 ab \\cos(\\gamma)$ holds."
   ]
  },
  {
   "cell_type": "code",
   "execution_count": null,
   "metadata": {
    "id": "fd180378-9e14-4e45-ac0d-4dedd620303f"
   },
   "outputs": [],
   "source": [
    "from scipy.optimize import minimize\n",
    "\n",
    "def f(h):\n",
    "  t = np.linalg.norm(h,2)\n",
    "  return t\n",
    "\n",
    "x = [67.5*np.pi/180, 52*np.pi/180, 60*np.pi/180, 172,146,165]"
   ]
  },
  {
   "cell_type": "code",
   "execution_count": null,
   "metadata": {
    "id": "Gp9f0wMXtv9z"
   },
   "outputs": [],
   "source": [
    "# This defines the constraints\n",
    "def con1(h):\n",
    "  x = np.array([67.5*np.pi/180, 52*np.pi/180, 60*np.pi/180, 172, 146, 165])\n",
    "  xtilde = x + h\n",
    "  return xtilde[0] +xtilde[1] + xtilde[2] - np.pi\n",
    "\n",
    "def con2(h):\n",
    "  x = np.array([67.5*np.pi/180, 52*np.pi/180, 60*np.pi/180, 172, 146, 165])\n",
    "  xtilde = x + h\n",
    "  return xtilde[3] * np.sin(xtilde[1]) - xtilde[4] * np.sin(xtilde[0])\n",
    "\n",
    "def con3(h):\n",
    "  x = np.array([67.5*np.pi/180, 52*np.pi/180, 60*np.pi/180, 172, 146, 165])\n",
    "  xtilde = x + h\n",
    "  return xtilde[4] * np.sin(xtilde[2]) - xtilde[5] * np.sin(xtilde[1])\n",
    "\n",
    "cons = ({'type': 'ineq', 'fun': con1},\n",
    "        {'type': 'ineq', 'fun': con2},\n",
    "        {'type': 'ineq', 'fun': con3}\n",
    "        )"
   ]
  },
  {
   "cell_type": "code",
   "execution_count": null,
   "metadata": {
    "colab": {
     "base_uri": "https://localhost:8080/"
    },
    "id": "glIKSPTP0Lr3",
    "outputId": "3ca17161-e0d9-4cf5-c50c-a37c29cb17e0"
   },
   "outputs": [
    {
     "data": {
      "text/plain": [
       "     fun: 0.03714824353125144\n",
       "     jac: array([-0.31468802, -0.3314353 ,  0.88103305, -0.06428679, -0.06207889,\n",
       "       -0.08316279])\n",
       " message: 'Optimization terminated successfully.'\n",
       "    nfev: 91\n",
       "     nit: 9\n",
       "    njev: 9\n",
       "  status: 0\n",
       " success: True\n",
       "       x: array([-0.01169056, -0.01231392,  0.03273112, -0.00238959, -0.00246045,\n",
       "       -0.00293259])"
      ]
     },
     "execution_count": 98,
     "metadata": {},
     "output_type": "execute_result"
    }
   ],
   "source": [
    "res = minimize(f, np.array([0,0,0,0,0,0]), constraints = cons)\n",
    "res"
   ]
  },
  {
   "cell_type": "code",
   "execution_count": null,
   "metadata": {
    "colab": {
     "base_uri": "https://localhost:8080/"
    },
    "id": "P7enmi5fo3Ft",
    "outputId": "cc34cbcf-f183-417a-b0bd-f92e37cdad35"
   },
   "outputs": [
    {
     "name": "stdout",
     "output_type": "stream",
     "text": [
      "Cosine theorem: 25787.999999999993\n",
      "C squared: 27225\n",
      "Difference: 1437.0000000000073\n",
      "\n",
      "Cosine theorem: 27224.032254778886\n",
      "C squared: 27224.032254866008\n",
      "Difference: 8.712231647223234e-08\n"
     ]
    }
   ],
   "source": [
    "xnew = res.x\n",
    "xx = xnew+x\n",
    "\n",
    "\n",
    "print(f'Cosine theorem: {x[3]**2 + x[4]**2 - x[3]* 2 * x[4]*np.cos(x[2])}')\n",
    "print(f'C squared: {x[5]**2}')\n",
    "print(f'Difference: {x[5]**2 - (x[3]**2 + x[4]**2 - x[3]* 2 * x[4]*np.cos(x[2]))}\\n')\n",
    "\n",
    "print(f'Cosine theorem: {xx[3]**2 + xx[4]**2 - xx[3]* 2 * xx[4]*np.cos(xx[2])}')\n",
    "print(f'C squared: {xx[5]**2}')\n",
    "print(f'Difference: {xx[5]**2 - (xx[3]**2 + xx[4]**2 - xx[3]* 2 * xx[4]*np.cos(xx[2]))}')"
   ]
  },
  {
   "cell_type": "markdown",
   "metadata": {
    "id": "zJsWl4bhf24y"
   },
   "source": [
    "So, the theorem holds for the new values. The difference between the cosine theorem and C-squared is $8.7*10^{-08}$, so it is roughly equal. "
   ]
  },
  {
   "cell_type": "markdown",
   "metadata": {
    "id": "cb8f5e56-d57b-44f6-878f-d8d420d4d0a2"
   },
   "source": [
    "## (b)\n",
    "You will notice that the corrections will be made mainly to the angles and much less to the lengths of the sides of the triangle. This is because the measurements have not the same absolute errors. While the error in last digit of the sides is about 1, the errors in radians of the angles are about 0.01. Repeat your computation by taking in account with appropriate weighting the difference in measurement errors. Minimize not simply $\\| h \\|_2^2$ but\n",
    "$$\n",
    "  \\left\\| \\begin{bmatrix} 100 h_1 \\\\ 100 h_2 \\\\ 100 h_3 \\\\ h_4 \\\\ h_5 \\\\ h_6 \\end{bmatrix} \\right\\|_2^2.$$"
   ]
  },
  {
   "cell_type": "code",
   "execution_count": null,
   "metadata": {
    "id": "dcc292e7-2304-4676-8d39-25f5a33246f6"
   },
   "outputs": [],
   "source": [
    "def fnew(h):\n",
    "  h0 = h[0]*100\n",
    "  h1 = h[1]*100\n",
    "  h2 = h[2]*100\n",
    "  newh = [h0,h1,h2,h[3],h[4],h[5]]\n",
    "  return np.linalg.norm(newh, 2)\n",
    "  "
   ]
  },
  {
   "cell_type": "code",
   "execution_count": null,
   "metadata": {
    "colab": {
     "base_uri": "https://localhost:8080/"
    },
    "id": "iaoZTxcexlH1",
    "outputId": "91527550-e1b1-4a0c-beb5-69083c956cee"
   },
   "outputs": [
    {
     "data": {
      "text/plain": [
       "     fun: 2.5191201209160226\n",
       "     jac: array([ -7.15109676, -21.95902652,  63.75184232,   0.34716287,\n",
       "         0.36576027,  -0.53472796])\n",
       " message: 'Optimization terminated successfully.'\n",
       "    nfev: 211\n",
       "     nit: 23\n",
       "    njev: 23\n",
       "  status: 0\n",
       " success: True\n",
       "       x: array([-0.00180145, -0.00553175,  0.01605985,  0.87454497,  0.92139406,\n",
       "       -1.34704393])"
      ]
     },
     "execution_count": 108,
     "metadata": {},
     "output_type": "execute_result"
    }
   ],
   "source": [
    "res = minimize(fnew, np.array([0,0,0,0,0,0]), constraints = cons)\n",
    "res"
   ]
  },
  {
   "cell_type": "code",
   "execution_count": null,
   "metadata": {
    "colab": {
     "base_uri": "https://localhost:8080/"
    },
    "id": "hNLMmb5ux86W",
    "outputId": "debaa30f-239f-4df8-898d-1d57ba4562a4"
   },
   "outputs": [
    {
     "name": "stdout",
     "output_type": "stream",
     "text": [
      "Cosine theorem: 25787.999999999993\n",
      "C squared: 27225\n",
      "Difference: 1437.0000000000073\n",
      "\n",
      "Cosine theorem: 26782.29002310666\n",
      "C squared: 26782.29002954693\n",
      "Difference: 6.440270226448774e-06\n"
     ]
    }
   ],
   "source": [
    "xnew = res.x\n",
    "xx = xnew+x\n",
    "\n",
    "\n",
    "print(f'Cosine theorem: {x[3]**2 + x[4]**2 - x[3]* 2 * x[4]*np.cos(x[2])}')\n",
    "print(f'C squared: {x[5]**2}')\n",
    "print(f'Difference: {x[5]**2 - (x[3]**2 + x[4]**2 - x[3]* 2 * x[4]*np.cos(x[2]))}\\n')\n",
    "\n",
    "print(f'Cosine theorem: {xx[3]**2 + xx[4]**2 - xx[3]* 2 * xx[4]*np.cos(xx[2])}')\n",
    "print(f'C squared: {xx[5]**2}')\n",
    "print(f'Difference: {xx[5]**2 - (xx[3]**2 + xx[4]**2 - xx[3]* 2 * xx[4]*np.cos(xx[2]))}')"
   ]
  },
  {
   "cell_type": "code",
   "execution_count": null,
   "metadata": {
    "id": "bWhrYRXbg-d2"
   },
   "outputs": [],
   "source": []
  },
  {
   "cell_type": "markdown",
   "metadata": {
    "id": "UcADImcFhECl"
   },
   "source": [
    "We see that the error in Cosine theorem and C squared has increased to $6.44 * 10^{-6}$. However, the angles are now affected less than in the unweighted example, which was the goal.  "
   ]
  },
  {
   "cell_type": "code",
   "execution_count": null,
   "metadata": {
    "id": "cKphjGDXhbi8"
   },
   "outputs": [],
   "source": []
  }
 ],
 "metadata": {
  "colab": {
   "collapsed_sections": [],
   "name": "homework5.ipynb",
   "provenance": []
  },
  "kernelspec": {
   "display_name": "Python 3",
   "language": "python",
   "name": "python3"
  },
  "language_info": {
   "codemirror_mode": {
    "name": "ipython",
    "version": 3
   },
   "file_extension": ".py",
   "mimetype": "text/x-python",
   "name": "python",
   "nbconvert_exporter": "python",
   "pygments_lexer": "ipython3",
   "version": "3.8.5"
  }
 },
 "nbformat": 4,
 "nbformat_minor": 5
}
