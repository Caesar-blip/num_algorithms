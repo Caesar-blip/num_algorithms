{
 "cells": [
  {
   "cell_type": "markdown",
   "metadata": {
    "id": "e6991386-31db-4655-822b-21f41a064f0b",
    "nbgrader": {
     "grade": false,
     "grade_id": "cell-736ff6bc3e0d0696",
     "locked": true,
     "schema_version": 3,
     "solution": false,
     "task": false
    }
   },
   "source": [
    "# Homework Set 2"
   ]
  },
  {
   "cell_type": "markdown",
   "metadata": {
    "id": "28e0cf7d-032f-4435-b4d6-a0ebe27ab051",
    "nbgrader": {
     "grade": false,
     "grade_id": "cell-b13bc5ed16bce8e0",
     "locked": true,
     "schema_version": 3,
     "solution": false,
     "task": false
    }
   },
   "source": [
    "# Exercise 0"
   ]
  },
  {
   "cell_type": "markdown",
   "metadata": {
    "id": "ed90a614-072a-48eb-9297-d8eaf8e5183f",
    "nbgrader": {
     "grade": true,
     "grade_id": "cell-fd464f55ba436b1c",
     "locked": false,
     "points": 0,
     "schema_version": 3,
     "solution": true,
     "task": false
    }
   },
   "source": [
    "Julius Wantenaar 11339055\n",
    "\n",
    "Sebastiaan Bye 14084880"
   ]
  },
  {
   "cell_type": "code",
   "execution_count": 21,
   "metadata": {
    "id": "f94d7728-fe51-45ac-903f-59c066161470"
   },
   "outputs": [],
   "source": [
    "import numpy as np\n",
    "import scipy.linalg as la\n",
    "import matplotlib.pyplot as plt\n",
    "import random"
   ]
  },
  {
   "cell_type": "markdown",
   "metadata": {
    "id": "aa14ad46-1797-4256-9ead-da2143c4118d"
   },
   "source": [
    "# Exercise 1\n",
    "\n",
    "The goal of this problem is to show that apparently harmless looking systems of linear equations may be very difficult to solve. Some functions that may be useful are `numpy.triu`, `numpy.tril`, `numpy.eye`, `random.randrange`.\n",
    "## (a)\n",
    "Generate an $n \\times n$ matrix $B$ with random integer elements in the range\n",
    "$b_{ij} \\in [-10, 10]$. Choose for instance $n=20$.\n"
   ]
  },
  {
   "cell_type": "code",
   "execution_count": 22,
   "metadata": {
    "id": "946ce5e1-4d17-48ab-9992-836ac9e76794"
   },
   "outputs": [],
   "source": [
    "n = 20\n",
    "B = np.rint(np.random.rand(n,n)*20 - 10)"
   ]
  },
  {
   "cell_type": "markdown",
   "metadata": {},
   "source": [
    "The cell above generates a $20 * 20$ matrix with integer elements in the range $b_{ij} \\in [-10, 10]$"
   ]
  },
  {
   "cell_type": "markdown",
   "metadata": {
    "id": "230a0f2e-5887-4047-9ede-887d02dea5a1"
   },
   "source": [
    "## (b)\n",
    "Remove the diagonal of $B$, save the upper triangular part in $U$ and the lower triangular part in $L$, and put ones on the diagonals $l_{ii} = u_{ii} = 1$."
   ]
  },
  {
   "cell_type": "code",
   "execution_count": 31,
   "metadata": {
    "id": "299a4cf2-677a-4b27-91c1-f731801a74a6"
   },
   "outputs": [],
   "source": [
    "L = np.zeros((n,n))\n",
    "U = np.zeros((n,n))\n",
    "for row in range(n):\n",
    "    for column in range(n):\n",
    "        if row == column:\n",
    "            # diagonal\n",
    "            B[row][column] = 0\n",
    "        \n",
    "for row in range(n):\n",
    "    for column in range(n):        \n",
    "        if row < column:\n",
    "            # lower\n",
    "            L[row][column] = B[row][column]\n",
    "        elif row > column:\n",
    "            #upper\n",
    "            U[row][column] = B[row][column]\n",
    "        \n",
    "np.fill_diagonal(L, 1)\n",
    "np.fill_diagonal(U, 1)"
   ]
  },
  {
   "cell_type": "markdown",
   "metadata": {},
   "source": [
    "Assuming that removing the diagonal of $B$ means setting the elements to $0$, the first loop removes the diagonal of $B$. The second loop saves the elements of the triangular matrices and the final command sets the diagonals to $1$."
   ]
  },
  {
   "cell_type": "markdown",
   "metadata": {
    "id": "53b14e0f-f9e0-48c6-b192-e0f8026bd99b"
   },
   "source": [
    "## (c)\n",
    "Compute $A = L \\cdot U$. What is the value of $\\det(A)$ and why? Compute the determinant using the appropriate python command and confirm your prediction. In case that you have doubts about the result, compute separately $\\det(L)$ and $\\det(U)$."
   ]
  },
  {
   "cell_type": "code",
   "execution_count": 28,
   "metadata": {
    "colab": {
     "base_uri": "https://localhost:8080/"
    },
    "id": "414a0af7",
    "outputId": "e2dfe889-0f2d-4855-e729-c0bdc5c1b2cb"
   },
   "outputs": [
    {
     "data": {
      "text/plain": [
       "447560120.34148425"
      ]
     },
     "execution_count": 28,
     "metadata": {},
     "output_type": "execute_result"
    }
   ],
   "source": [
    "A = np.matmul(L,U)\n",
    "np.linalg.det(A)"
   ]
  },
  {
   "cell_type": "markdown",
   "metadata": {},
   "source": [
    "Above compute the determinant of $A$ which is in this case $447560120.34148425$"
   ]
  },
  {
   "cell_type": "code",
   "execution_count": 29,
   "metadata": {},
   "outputs": [
    {
     "name": "stdout",
     "output_type": "stream",
     "text": [
      "1.0 0.9999973094981974\n"
     ]
    }
   ],
   "source": [
    "print(np.linalg.det(L),np.linalg.det(U))"
   ]
  },
  {
   "cell_type": "markdown",
   "metadata": {},
   "source": [
    "The cell above computes the determinates of L and U seperately. They are respectivly $1.0$ and $0.9999973094981974$. This result is in line with the theory as the determinant of a triangular matrix is the product the diagonal. In this case it is all $1$ hence, this result is correct."
   ]
  },
  {
   "cell_type": "code",
   "execution_count": 30,
   "metadata": {
    "colab": {
     "base_uri": "https://localhost:8080/"
    },
    "id": "1Hz4ev4ZO5_F",
    "outputId": "7fc3a4ed-ca06-4725-a1d3-ea1858341496"
   },
   "outputs": [
    {
     "data": {
      "text/plain": [
       "(1.0, 19.919321433787225)"
      ]
     },
     "execution_count": 30,
     "metadata": {},
     "output_type": "execute_result"
    }
   ],
   "source": [
    "np.linalg.slogdet(A)"
   ]
  },
  {
   "cell_type": "markdown",
   "metadata": {},
   "source": [
    "The above cell uses the natural log to compute the determinant of $A$. Now the determinant is $1$."
   ]
  },
  {
   "cell_type": "markdown",
   "metadata": {
    "id": "9aa377cc-d913-46ca-a625-30e3ec7c91fb"
   },
   "source": [
    "## (d)\n",
    "Choose now an exact solution, for instance $x_{\\rm e} =$ `numpy.ones(n)`, and compute the corresponding right hand side $b = A x_{\\rm e}$.\n"
   ]
  },
  {
   "cell_type": "code",
   "execution_count": 16,
   "metadata": {
    "colab": {
     "base_uri": "https://localhost:8080/"
    },
    "id": "36dac949-ae76-4fb1-8060-921d010a1558",
    "outputId": "9c1c3033-a95f-45ce-fd63-6545924a2727",
    "scrolled": true
   },
   "outputs": [
    {
     "data": {
      "text/plain": [
       "array([  521.,    55.,  -513.,   366.,    92.,   230.,   -62.,   665.,\n",
       "          66.,  -664.,   538.,   -14.,   316., -1044.,  -500.,  -105.,\n",
       "         -59.,    66.,    71.,   -17.])"
      ]
     },
     "execution_count": 16,
     "metadata": {},
     "output_type": "execute_result"
    }
   ],
   "source": [
    "b = np.matmul(A, np.ones(n))\n",
    "\n",
    "b"
   ]
  },
  {
   "cell_type": "markdown",
   "metadata": {},
   "source": [
    "The above cell generates a vector with all elements one and calcaultes what $b$ is. The resulting vector $b$ is \n",
    "\n",
    "$\\begin{bmatrix}   521.\\\\    55.\\\\  -513.\\\\   366.\\\\    92.\\\\   230.\\\\   -62.\\\\   665.\\\\\n",
    "          66.\\\\  -664.\\\\   538.\\\\   -14.\\\\   316.\\\\ -1044.\\\\  -500.\\\\  -105.\\\\\n",
    "         -59.\\\\    66.\\\\    71.\\\\   -17. \\end{bmatrix}$"
   ]
  },
  {
   "cell_type": "markdown",
   "metadata": {
    "id": "fc0577fd-9510-4e73-8d1c-5b738885ad27"
   },
   "source": [
    "## (e)\n",
    "Solve $A x = b$ using `scipy.linalg.lu_factor` and `scipy.linalg.lu_solve` and compare the solution with the exact $x_{\\rm e}$. "
   ]
  },
  {
   "cell_type": "code",
   "execution_count": 18,
   "metadata": {},
   "outputs": [],
   "source": [
    "lu, piv = la.lu_factor(A)"
   ]
  },
  {
   "cell_type": "code",
   "execution_count": 19,
   "metadata": {
    "scrolled": true
   },
   "outputs": [
    {
     "data": {
      "text/plain": [
       "array([ 1.00000013e+00,  9.99999991e-01,  9.99999747e-01,  9.99999914e-01,\n",
       "        9.99999961e-01,  9.99997101e-01,  9.99997843e-01,  1.00000108e+00,\n",
       "        9.99995557e-01,  1.00001342e+00,  9.99929224e-01,  1.00053412e+00,\n",
       "        9.96272542e-01,  1.02270157e+00,  1.18904915e+00,  2.09642282e-01,\n",
       "        5.50592882e+00, -4.01248107e+01, -2.52706055e+02,  6.02766701e+02])"
      ]
     },
     "execution_count": 19,
     "metadata": {},
     "output_type": "execute_result"
    }
   ],
   "source": [
    "la.lu_solve((lu, piv), b)"
   ]
  },
  {
   "cell_type": "markdown",
   "metadata": {},
   "source": [
    "Using the suggested libraries, the solution of $x_{e}$ is \n",
    "\n",
    "$\\begin{bmatrix} 1.00000013e+00\\\\  9.99999991e-01\\\\  9.99999747e-01\\\\  9.99999914e-01\\\\\n",
    "        9.99999961e-01\\\\  9.99997101e-01\\\\  9.99997843e-01\\\\  1.00000108e+00\\\\\n",
    "        9.99995557e-01\\\\  1.00001342e+00\\\\  9.99929224e-01\\\\  1.00053412e+00\\\\\n",
    "        9.96272542e-01\\\\  1.02270157e+00\\\\  1.18904915e+00\\\\  2.09642282e-01\\\\\n",
    "        5.50592882e+00\\\\ -4.01248107e+01\\\\ -2.52706055e+02\\\\  6.02766701e+02 \\end{bmatrix}$"
   ]
  },
  {
   "cell_type": "markdown",
   "metadata": {
    "id": "b63e4111-78f2-4e60-b0ca-30c176821884"
   },
   "source": [
    "## (f)\n",
    "Explain the bad results by computing the condition number of $A$."
   ]
  },
  {
   "cell_type": "code",
   "execution_count": 32,
   "metadata": {
    "colab": {
     "base_uri": "https://localhost:8080/"
    },
    "id": "4b53e4fa-77d3-4631-847a-6ec198bda173",
    "outputId": "71d9cda5-49f3-44e9-94b5-ac3187c1e0d0"
   },
   "outputs": [
    {
     "data": {
      "text/plain": [
       "1.688214308431926e+18"
      ]
     },
     "execution_count": 32,
     "metadata": {},
     "output_type": "execute_result"
    }
   ],
   "source": [
    "np.linalg.cond(A)"
   ]
  },
  {
   "cell_type": "markdown",
   "metadata": {
    "id": "1b4bf294-40af-4285-850f-650ba466ae04"
   },
   "source": [
    "The condition number is very high. It is $1.688214308431926e+18$. This means that the matrix is very sensitive to input errors and that can be seen in the last $5$ entries of the vector in exercise (e).\n"
   ]
  },
  {
   "cell_type": "markdown",
   "metadata": {
    "id": "0e861009-6cb1-45ef-ab7c-c7dfbb50652e"
   },
   "source": [
    "# Exercise 2\n",
    "\n",
    "(N.B. this is a theory exercise.)\n",
    "Suppose we write a $(p+q) \\times (p+q)$ matrix $M$ in block form where\n",
    "$A, B, C, D$ are respectively $p \\times p, p \\times q, q \\times p$\n",
    "and $q \\times q$ matrices\n",
    "$ M = \\begin{bmatrix} A & B \\\\ C & D  \\end{bmatrix}. $"
   ]
  },
  {
   "cell_type": "markdown",
   "metadata": {
    "id": "83c83ef7-bce0-49c1-ab1a-0e419a740b6d"
   },
   "source": [
    "## (a)\n",
    "Verify that \n",
    "$   \\begin{bmatrix} A & B \\\\ C & D \n",
    "    \\end{bmatrix} =\n",
    "    \\begin{bmatrix} I_p & 0 \\\\ C A^{-1} & I_q \n",
    "    \\end{bmatrix}\n",
    "    \\begin{bmatrix} A & 0\\\\ 0 & D - CA^{-1} B\n",
    "    \\end{bmatrix}\n",
    "    \\begin\n",
    "    {bmatrix} I_p & A^{-1} B \\\\ 0 & I_q \n",
    "    \\end{bmatrix} \n",
    "$"
   ]
  },
  {
   "cell_type": "markdown",
   "metadata": {
    "id": "84ff623d-533a-46f7-8389-8ba004079ba6"
   },
   "source": [
    "\n"
   ]
  },
  {
   "cell_type": "markdown",
   "metadata": {
    "id": "10LVPwZSXOQN"
   },
   "source": [
    "$   \\begin{bmatrix} I_p & 0 \\\\ C A^{-1} & I_q \n",
    "    \\end{bmatrix}\n",
    "    \\begin{bmatrix} A & 0\\\\ 0 & D - CA^{-1} B\n",
    "    \\end{bmatrix}\n",
    "    =\n",
    "    \\begin{bmatrix} (I_{P}*A) + (0*0) & (I_{p} * 0) + (0* D-CA^{-1}B) \\\\ (CA^{-1}*A) + (I_{p}*0) & (CA^{-1}*0)+(I_{p}*D-CA^{-1}B)\n",
    "    \\end{bmatrix}\n",
    "    =\n",
    "    \\begin{bmatrix} A & 0 \\\\ C & D-CA^{-1}B\n",
    "    \\end{bmatrix}\n",
    "$\n",
    "\n",
    "The second step\n",
    "$\n",
    "    \\begin{bmatrix} A & 0 \\\\ C & D-CA^{-1}B\n",
    "    \\end{bmatrix}\n",
    "    \\begin{bmatrix} I_p & A^{-1} B \\\\ 0 & I_q \n",
    "    \\end{bmatrix}\n",
    "    =\n",
    "    \\begin{bmatrix} (A*I_{p}) + 0*0 & (A*A^{-1}B) + (0*I_{p}) \\\\ (C*I_{p})+(0*(D-CA^{-1}B)) & (C*A^{-1}B) + (D-CA^{-1}B*I_{p})\n",
    "    \\end{bmatrix}\n",
    "    =\n",
    "    \\begin{bmatrix} A & B \\\\ C & D  \\end{bmatrix}\n",
    "$\n",
    "\n",
    "Thus\n",
    "\n",
    "$   \\begin{bmatrix} A & B \\\\ C & D \n",
    "    \\end{bmatrix} =\n",
    "    \\begin{bmatrix} I_p & 0 \\\\ C A^{-1} & I_q \n",
    "    \\end{bmatrix}\n",
    "    \\begin{bmatrix} A & 0\\\\ 0 & D - CA^{-1} B\n",
    "    \\end{bmatrix}\n",
    "    \\begin{bmatrix} I_p & A^{-1} B \\\\ 0 & I_q \n",
    "    \\end{bmatrix} \n",
    "$."
   ]
  },
  {
   "cell_type": "markdown",
   "metadata": {
    "id": "2a9d6c87-b0b4-4f0d-8d3f-3c870c9cc198"
   },
   "source": [
    "## (b)\n",
    "Describe how a system $M x = b$, with $x$ and $b$ in $\\mathbb{R}^{p+q}$,\n",
    "can be solved by applying matrix-vector products with $C$ and\n",
    "$B$ and solves with $A$ and $(D - CA^{-1}B)$."
   ]
  },
  {
   "cell_type": "markdown",
   "metadata": {
    "id": "47a5b7fa-faee-4814-b3f0-850f77b7f067"
   },
   "source": [
    "$Mx = b$\n",
    "\n",
    "$ \\begin{bmatrix} A & B \\\\ C & D \\end{bmatrix} x = b$ \n",
    "\n",
    "$ \\begin{bmatrix} A & B \\\\ C & D \\end{bmatrix} \\begin{bmatrix} x_{1} \\\\ x_{2} \\end{bmatrix} = \\begin{bmatrix} b_{1} \\\\ b_{2} \\end{bmatrix}$\n",
    "\n",
    "From the question it is known that $A$ is invertible. Hence, $x_{1}$ can be eliminated by\n",
    "\n",
    "$Ax_{1} + Bx_{2} = b_{1} $\n",
    "\n",
    "$x_{1} = A^{-1}(b_{1}-Bx_{2}).$\n",
    "\n",
    "For the second equation\n",
    "\n",
    "$Cx_{1} + Dx_{2} = b_{2} $\n",
    "\n",
    "$ C(A^{-1}(b_{1}-Bx_{2})) + Dx_{2} = b_{2} $\n",
    "\n",
    "$(D-CA^{-1})x_{2} = b_{2} - CA^{-1}b_{1}.$\n",
    "\n",
    "Now let $S = D-CA^{-1}B$, then\n",
    "\n",
    "$x_{2} = S^{-1}(b_{2} - CA^{-1}b_{1}).$\n",
    "\n",
    "Substituting this expression into the expression for $x_{1}$ gives\n",
    "\n",
    "$x_{1} = A^{-1}(b_{1}-B(S^{-1}(b_{2} - CA^{-1}b_{1})))$\n",
    "\n",
    "$x_{1} = (A^{-1} + A^{-1}BS^{-1}CA^{-1})b_{1}-A^{-1}BS^{-1}b_{2}$.\n",
    "\n",
    "Now $Mx=b$ can be solved with $x, b$ by\n",
    "\n",
    "$\\begin{bmatrix} x_{1} \\\\ x_{2} \\end{bmatrix} = \\begin{bmatrix} A^{-1}+A^{-1}BS^{-1}CA^{-1} & -A^{-1}BS^{-1} \\\\ -S^{-1}CA^{-1} & S^{-1} \\end{bmatrix} \\begin{bmatrix} b_{1} \\\\ b_{2} \\end{bmatrix}$"
   ]
  },
  {
   "cell_type": "markdown",
   "metadata": {
    "id": "e3c88a41-be49-43ed-8819-9b3084bd417e"
   },
   "source": [
    "## (c)\n",
    "What is the cost, to highest order, of LU-factorizing $A$ and of\n",
    "computing and LU-factorizing $D - CA^{-1} B$? "
   ]
  },
  {
   "cell_type": "markdown",
   "metadata": {},
   "source": [
    "The cost to the highest order of LU-factorizing $A$ is as follows:\n",
    "\n",
    "Eliminiating the first column requires $p$ additions and $p$ multiplications on $p-1$ rows. Thus $2p(p-1)$ operations.\n",
    "\n",
    "For the second column there are $p-1$ additions and $p-1$ multiplications on $p-2$ rows. Thus $2(p-1)(p-2)$ operations.\n",
    "\n",
    "Thus $\\sum^{p}_{i=1} 2(p-1)(p-i+1)$ operations per column. Now let $j=p-i+1$.\n",
    "\n",
    "$2 \\sum^{p-1}_{j=0}j(j+1)$\n",
    "\n",
    "$2 \\sum^{p-1}_{j=0}(j^{2} + j)$\n",
    "\n",
    "$2 (\\frac{p^{3}}{3} - \\frac{p}{3})$\n",
    "\n",
    "$\\frac{2p^{3}}{3} - \\frac{2p}{3}.$\n",
    "\n",
    "So in the worst case the cost of LU-factorizing $A$ is $\\frac{2p^{3}}{3} - \\frac{2p}{3}.$ So the cost to the highest order of LU-factorizing $A$ is $\\frac{2p^{3}}{3}$."
   ]
  },
  {
   "cell_type": "markdown",
   "metadata": {},
   "source": [
    "Computing $D-CA^{-1}B$. Inverting a matrix has a time-complexity of $O(n^{3})$, in this case $O(p^{3})$.\n",
    "\n",
    "First, compute $CA^{-1}$. $C$ is $q*p$ and $A^{-1}$ is $p*p$, which computing the matrix multiplication is of order $O(pqp) = O(p^{2}q)$. This is because adding and multiplying $p$ terms for each $pq$ element. The resulting matrix is of size $q*p$.\n",
    "\n",
    "Second, compute $CA^{-1}$ times $B$ which is $q*p$ times $p*q$. This has a time complexity of $O(qpq) = O(q^{2}p)$. This is because adding and multiplying $q$ terms for each $qp$ element. The resulting matrix is of size $q*q$.\n",
    "\n",
    "The final operation is subtracting a $q*q$ matrix from a $q*q$ matrix which is a total of $q^{2}$ operations.\n",
    "\n",
    "The total time complexity is $O(p^{3} + p^{2}q + q^{2}p + q^{2})$."
   ]
  },
  {
   "cell_type": "markdown",
   "metadata": {},
   "source": [
    "The LU-factorizing $D-CA^{-1}B$ cost follows the same logical as the LU-factorizing cost of $A$\n",
    "\n",
    "Thus $\\sum^{q}_{i=1} 2(q-1)(q-i+1)$ operations per column. Now let $j=q-i+1$.\n",
    "\n",
    "$2 \\sum^{q-1}_{j=0}j(j+1)$\n",
    "\n",
    "$2 \\sum^{q-1}_{j=0}(j^{2} + j)$\n",
    "\n",
    "$2 (\\frac{q^{3}}{3} - \\frac{q}{3})$\n",
    "\n",
    "$\\frac{2q^{3}}{3} - \\frac{2q}{3}.$\n",
    "\n",
    "So in the worst case the cost of LU-factorizing $D-CA^{-1}B$ is $\\frac{2q^{3}}{3} - \\frac{2q}{3}.$ So the cost to the highest order of LU-factorizing $D-CA^{-1}B$ is $\\frac{2q^{3}}{3}$."
   ]
  },
  {
   "cell_type": "markdown",
   "metadata": {
    "id": "f990d804-c6a0-41fd-a26e-2878b3ec68da"
   },
   "source": [
    "**Remark**: Although in this case no savings were obtained, the decomposition\n",
    "above is very useful for solving linear systems with many zero coefficients,\n",
    "in other words where $M$ is a sparse matrix. After applying a\n",
    "permutation of the indices such a matrix is written in the above\n",
    "form, where $q$ is as small as possible and $A$ is blockdiagonal,\n",
    "i.e. $A = \\begin{bmatrix} E & O \\\\ O & F \\end{bmatrix}$. This\n",
    "blockdiagonal form then causes big savings in computational\n",
    "cost. Moreover, the procedure can be applied recursively to $E$ and $F$."
   ]
  }
 ],
 "metadata": {
  "colab": {
   "collapsed_sections": [],
   "name": "hw2.ipynb",
   "provenance": []
  },
  "kernelspec": {
   "display_name": "Python 3",
   "language": "python",
   "name": "python3"
  },
  "language_info": {
   "codemirror_mode": {
    "name": "ipython",
    "version": 3
   },
   "file_extension": ".py",
   "mimetype": "text/x-python",
   "name": "python",
   "nbconvert_exporter": "python",
   "pygments_lexer": "ipython3",
   "version": "3.8.5"
  }
 },
 "nbformat": 4,
 "nbformat_minor": 5
}
