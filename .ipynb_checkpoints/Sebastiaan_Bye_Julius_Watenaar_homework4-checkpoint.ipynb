{
 "cells": [
  {
   "cell_type": "markdown",
   "metadata": {
    "id": "JBVNey53H9En"
   },
   "source": [
    "# Homeworkset 4\n",
    "\n",
    "Julius Wantenaar 11339055, Sebastiaan Bye 14084880"
   ]
  },
  {
   "cell_type": "markdown",
   "metadata": {
    "id": "608c1096-a095-4731-b9e9-df81c9f59c22"
   },
   "source": [
    "-----\n",
    "# Exercise 1 (3 points)\n",
    "Write a program implementing Rayleigh quotient iteration for computing an eigenvalue and corresponding eigenvector of a matrix. Test your program on the matrix \n",
    "$$\n",
    "  A = \\begin{bmatrix} 6 & 2 & 1 \\\\ 2& 3 & 1 \\\\ 1 & 1 & 1  \\end{bmatrix}\n",
    "$$\n",
    "using a random starting vector. Let the program create output that shows the convergence behavior."
   ]
  },
  {
   "cell_type": "code",
   "execution_count": 128,
   "metadata": {
    "id": "72c19f0e-4aea-4b93-b4c4-44b3b78b4443"
   },
   "outputs": [],
   "source": [
    "import numpy as np\n",
    "import random\n",
    "\n",
    "# This implements the Rayleigh Quotient\n",
    "\n",
    "def ray(A, x0, iterations):\n",
    "  xold = x0\n",
    "  I = np.identity(np.shape(A)[0])\n",
    "  numerator = np.matmul(np.matmul(np.transpose(xold), A), xold)\n",
    "  denomenator = np.matmul(np.transpose(xold), xold)\n",
    "  sigma = numerator/denomenator\n",
    "  print(sigma)\n",
    "  for i in range(iterations):\n",
    "    ynew = np.linalg.solve(A-(sigma * I), xold)\n",
    "    xnew = ynew/np.linalg.norm(ynew, ord=np.inf)\n",
    "    xold = xnew\n",
    "    numerator = np.matmul(np.matmul(np.transpose(xnew), A), xnew)\n",
    "    denomenator = np.matmul(np.transpose(xnew), xnew)\n",
    "    sigma = numerator/denomenator\n",
    "    print(sigma)\n",
    "    print(xnew)\n",
    "  \n",
    "\n",
    "  \n",
    "  return sigma, xnew\n",
    "\n",
    "\n"
   ]
  },
  {
   "cell_type": "code",
   "execution_count": 130,
   "metadata": {
    "colab": {
     "base_uri": "https://localhost:8080/"
    },
    "id": "HqRcJIvHEMMF",
    "outputId": "7cf1ed29-80e1-4ad3-d7b0-312d3c07ad77"
   },
   "outputs": [
    {
     "name": "stdout",
     "output_type": "stream",
     "text": [
      "6.8381793486364115\n",
      "7.284999824887896\n",
      "[1.         0.51090714 0.21730368]\n",
      "7.287992138208585\n",
      "[1.         0.52290805 0.24220394]\n",
      "7.287992138960421\n",
      "[1.         0.52290017 0.24219181]\n",
      "7.287992138960422\n",
      "[1.         0.52290017 0.24219181]\n",
      "7.287992138960422\n",
      "[1.         0.52290017 0.24219181]\n",
      "7.287992138960422\n",
      "[1.         0.52290017 0.24219181]\n",
      "7.287992138960422\n",
      "[1.         0.52290017 0.24219181]\n",
      "7.287992138960422\n",
      "[1.         0.52290017 0.24219181]\n",
      "7.287992138960422\n",
      "[1.         0.52290017 0.24219181]\n",
      "7.287992138960422\n",
      "[1.         0.52290017 0.24219181]\n"
     ]
    }
   ],
   "source": [
    "A = np.array([[6,2,1], [2,3,1], [1,1,1]])\n",
    "eigval, eigvec = ray(A, np.transpose(np.array((random.random(),random.random(),random.random()))), 10)\n"
   ]
  },
  {
   "cell_type": "markdown",
   "metadata": {
    "id": "CA5Evi8_IyKr"
   },
   "source": [
    "The above cell computes the eigenvalue and eigenvector using Rayleigh quotient using a random input vector. The first iteration had an eigenvalue of $4.8373$, second iteration $6.1554$, third iteration $7.2267$, fourth iteration $7.28799$ and fifth iteration $7.28799$. This shows that after just five iterations, the eigenvalue has converged. The eigenvector that was found from this eigenvalue was $$\\begin{bmatrix} 1. & 0.5229 & 0.2422 \\end{bmatrix}^{T} $$.\n",
    "\n",
    "----"
   ]
  },
  {
   "cell_type": "markdown",
   "metadata": {
    "id": "9dbb295f-5416-4cc4-b59b-0da5a3abfc4c"
   },
   "source": [
    "----\n",
    "# Exercise 2 (rootfinding with automatic differentiation, 3 points)"
   ]
  },
  {
   "cell_type": "markdown",
   "metadata": {
    "id": "71362439-2461-4dd2-ba65-ee58dd4acf98"
   },
   "source": [
    "## (a)\n",
    "Create a Python function to apply Newton's method in multiple dimensions. Create a stopping criterion, such that your method automatically stops when one of the following conditions is satisfied: (i) the size of the function is below a specified tolerance; (ii) the difference in two subsequent iterates $\\mathbf{x}_k$ is below a specified tolerance; (iii) the number of iterations reaches a specified limit."
   ]
  },
  {
   "cell_type": "code",
   "execution_count": 131,
   "metadata": {
    "id": "C7jTgXE8SKxl"
   },
   "outputs": [],
   "source": [
    "import jax.numpy as jnp\n",
    "from jax import grad, jit, vmap\n",
    "from jax import jacfwd, jacrev "
   ]
  },
  {
   "cell_type": "code",
   "execution_count": 132,
   "metadata": {
    "id": "BgQlEN5EkCK1"
   },
   "outputs": [],
   "source": [
    "# This implements the Netwon's method using Jax\n",
    "\n",
    "def fx(x):\n",
    "  assert len(x) == 2, \"please insert a valid vector\"\n",
    "  x0 = x[0]\n",
    "  x1 = x[1]\n",
    "  return jnp.array([x0 + 2*x1 - 2, x0**2+4*x1**2 - 4])\n",
    "\n",
    "\n",
    "def newton(f, x0, xtol, ytol, ittol):\n",
    "  jacob = jacfwd(f)\n",
    "  i = 0\n",
    "  error = []\n",
    "  while(True):\n",
    "    xnew = x0 - np.linalg.solve(jacob(x0), f(x0))\n",
    "    i += 1\n",
    "    if ((i > ittol) or (np.linalg.norm(x0-xnew, 2) < xtol) or (np.linalg.norm(f(xnew), 2) < ytol)):\n",
    "      print(i)\n",
    "      break\n",
    "    x0 = xnew\n",
    "    error.append(jnp.array(xnew) - jnp.array([0,1]))\n",
    "  return xnew, error\n"
   ]
  },
  {
   "cell_type": "code",
   "execution_count": null,
   "metadata": {
    "colab": {
     "base_uri": "https://localhost:8080/"
    },
    "id": "vLpGRm3LlpIv",
    "outputId": "f63e7091-c7df-4084-f1bf-df66f7d9c346"
   },
   "outputs": [
    {
     "name": "stdout",
     "output_type": "stream",
     "text": [
      "5\n"
     ]
    }
   ],
   "source": [
    "import numpy as np\n",
    "\n",
    "ans, eror = newton(fx, jnp.array([1.,2.]), 0.000001, 0.000001, 10)"
   ]
  },
  {
   "cell_type": "code",
   "execution_count": null,
   "metadata": {
    "colab": {
     "base_uri": "https://localhost:8080/"
    },
    "id": "Q9giOvsSTXZl",
    "outputId": "1cb8a4a3-0563-4912-d4e6-8c00e5446003"
   },
   "outputs": [
    {
     "data": {
      "text/plain": [
       "DeviceArray([8.151255e-08, 1.000000e+00], dtype=float32)"
      ]
     },
     "execution_count": 127,
     "metadata": {},
     "output_type": "execute_result"
    }
   ],
   "source": [
    "ans"
   ]
  },
  {
   "cell_type": "markdown",
   "metadata": {
    "id": "WGiUgo9sSZhz"
   },
   "source": [
    "Netwon's method was implemented and tested on the example function given in Example 5.15 of Scientific Computing. For the same initial value $$ \\begin{bmatrix} 1 & 2 \\end{bmatrix}^{T}$$ it find the same results $$x^{*} \\begin{bmatrix} 0 & 1 \\end{bmatrix}^{T}$$ "
   ]
  },
  {
   "cell_type": "markdown",
   "metadata": {
    "id": "4bd2d71a-e830-4636-a052-c3b455a0ab99"
   },
   "source": [
    "## (b)\n",
    "Solve Computer Exercise 5.19 using Newton's method and automatic differentiation. (N.B. Do not choose the starting point equal to a solution.)"
   ]
  },
  {
   "cell_type": "code",
   "execution_count": 142,
   "metadata": {
    "colab": {
     "base_uri": "https://localhost:8080/"
    },
    "id": "0a3e752a-4e45-40b2-b1f2-75a17d311a4f",
    "outputId": "44dbf945-1629-4c7c-e2bb-ee76c3a9116e"
   },
   "outputs": [
    {
     "name": "stdout",
     "output_type": "stream",
     "text": [
      "4\n"
     ]
    },
    {
     "data": {
      "text/plain": [
       "(DeviceArray([-0.37500003,  0.25000003], dtype=float32),\n",
       " [DeviceArray([-0.41203666, -0.71006304], dtype=float32),\n",
       "  DeviceArray([-0.3807389, -0.7469664], dtype=float32),\n",
       "  DeviceArray([-0.37506312, -0.74995476], dtype=float32)])"
      ]
     },
     "execution_count": 142,
     "metadata": {},
     "output_type": "execute_result"
    }
   ],
   "source": [
    "def func(input):\n",
    "  gamma = 5\n",
    "  delta = 1\n",
    "  x = input[0]\n",
    "  y = input[1]\n",
    "  return jnp.array([gamma*x*y - x*(1+y), -x*y+(delta-y)*(x+y)])\n",
    "newton(func, jnp.array([np.random.random(),np.random.random()]), 0.000001, 0.000001, 69)"
   ]
  },
  {
   "cell_type": "code",
   "execution_count": 144,
   "metadata": {
    "colab": {
     "base_uri": "https://localhost:8080/"
    },
    "id": "YJJ-ClbjMNc2",
    "outputId": "e9452d46-0156-4374-d7d3-b202d57e8d3c"
   },
   "outputs": [
    {
     "name": "stdout",
     "output_type": "stream",
     "text": [
      "4\n"
     ]
    },
    {
     "data": {
      "text/plain": [
       "(DeviceArray([1.9463187e-10, 1.0000000e+00], dtype=float32),\n",
       " [DeviceArray([-0.07204986, -0.02975488], dtype=float32),\n",
       "  DeviceArray([0.00324318, 0.00266552], dtype=float32),\n",
       "  DeviceArray([1.1430355e-05, 1.2755394e-05], dtype=float32)])"
      ]
     },
     "execution_count": 144,
     "metadata": {},
     "output_type": "execute_result"
    }
   ],
   "source": [
    "newton(func, jnp.array([np.random.random(),np.random.random()]), 0.000001, 0.000001, 69)"
   ]
  },
  {
   "cell_type": "code",
   "execution_count": 145,
   "metadata": {
    "colab": {
     "base_uri": "https://localhost:8080/"
    },
    "id": "Y7GytzZZxwWX",
    "outputId": "47630be2-6155-421a-86a6-4fada0447ec2"
   },
   "outputs": [
    {
     "name": "stdout",
     "output_type": "stream",
     "text": [
      "[-1.5000005e-07  6.5000016e-08]\n",
      "[0 0]\n"
     ]
    }
   ],
   "source": [
    "print(func([-0.37500012,  0.2500001]))\n",
    "print(func([0,0]))"
   ]
  },
  {
   "cell_type": "markdown",
   "metadata": {
    "id": "eb585a79-8d3c-4d8e-9889-ddca952dbb85"
   },
   "source": [
    "Computer Exercise 5.19 was solved using Netwon's method. Using a random input, the a root can be found for $$ x \\neq 0$$ at $$x= -0.375, y= -0.75 .$$ A root for $$x = 0$$ can be found at $$ x =  0 , y= 0$$ was found."
   ]
  },
  {
   "cell_type": "markdown",
   "metadata": {
    "id": "36b83806-20bd-4c7f-9c8d-5bb5de23c231"
   },
   "source": [
    "# Exercise 3 (3 points)\n",
    "\n",
    "## (a)\n",
    "\n",
    "Consider the system \n",
    "$$\\begin{aligned}(x_1+3)(x_2^3-7) + 18 = {}& 0 \\\\\n",
    "\\sin(x_2 e^{x_1} -1) = {}& 0 .\n",
    "\\end{aligned}$$\n",
    "Solve this system using Newton's method with starting \n",
    "point $\\mathbf{x}_0 = [ 0.5 \\;\\; 1.4 ] ^T$.\n"
   ]
  },
  {
   "cell_type": "code",
   "execution_count": null,
   "metadata": {
    "id": "69553d80-f22d-46ab-ba2e-60efa972e609"
   },
   "outputs": [],
   "source": [
    "def func(x):\n",
    "  x1 = x[0]\n",
    "  x2 = x[1]\n",
    "  return jnp.array([(x1+3)*(x2**3-7) + 18, jnp.sin(x2*jnp.exp(x1) - 1)])"
   ]
  },
  {
   "cell_type": "code",
   "execution_count": null,
   "metadata": {
    "colab": {
     "base_uri": "https://localhost:8080/"
    },
    "id": "lzlSYSlXy6g_",
    "outputId": "e0f92c0e-a147-4b77-d945-c7c9fa79084e"
   },
   "outputs": [
    {
     "name": "stdout",
     "output_type": "stream",
     "text": [
      "5\n"
     ]
    }
   ],
   "source": [
    "ans, errorNew = newton(func, jnp.array([0.5, 1.4]), 0.0001, 0.0001, 20)"
   ]
  },
  {
   "cell_type": "code",
   "execution_count": null,
   "metadata": {
    "colab": {
     "base_uri": "https://localhost:8080/"
    },
    "id": "Ve6zJh7yPRnk",
    "outputId": "7efc29fd-97bb-455c-9f35-78811c64b19f"
   },
   "outputs": [
    {
     "data": {
      "text/plain": [
       "DeviceArray([1.0840595e-06, 1.0000007e+00], dtype=float32)"
      ]
     },
     "execution_count": 108,
     "metadata": {},
     "output_type": "execute_result"
    }
   ],
   "source": [
    "ans"
   ]
  },
  {
   "cell_type": "code",
   "execution_count": null,
   "metadata": {
    "colab": {
     "base_uri": "https://localhost:8080/"
    },
    "id": "dbTcSj3OzDaC",
    "outputId": "81fb1101-c157-4c5a-a5ed-ab99480e801a"
   },
   "outputs": [
    {
     "data": {
      "text/plain": [
       "DeviceArray([-1.9073486e-06,  1.7881393e-06], dtype=float32)"
      ]
     },
     "execution_count": 109,
     "metadata": {},
     "output_type": "execute_result"
    }
   ],
   "source": [
    "func(ans)"
   ]
  },
  {
   "cell_type": "markdown",
   "metadata": {
    "id": "tAjcar5jNzlE"
   },
   "source": [
    "For the given system and given starting point, a root was found using Netwon's method for $$x_{1} = 0$$ and $$x_{2} = 1. $$ after $5$ iterations"
   ]
  },
  {
   "cell_type": "markdown",
   "metadata": {
    "id": "6cb2fd2b-66b7-4bdc-8793-4f3064d2339f"
   },
   "source": [
    "## (b)\n",
    "Write a program based on Broyden's method to solve the same system with the same starting point."
   ]
  },
  {
   "cell_type": "code",
   "execution_count": null,
   "metadata": {
    "id": "05feae8e-0248-47a8-bb51-7b886f4f6e7d"
   },
   "outputs": [],
   "source": [
    "def broyden(f, x0, xtol, ytol, ittol):\n",
    "  jacob = jacfwd(f)\n",
    "  jacobguess = jacob(x0)\n",
    "  i = 0\n",
    "  error = []\n",
    "  while(True):\n",
    "    s = np.linalg.solve(jacobguess, (-f(x0)))\n",
    "    xnew = x0 + s\n",
    "    y = f(xnew) - f(x0)\n",
    "    \n",
    "    \n",
    "    # correct until here\n",
    "    substract = jnp.matmul(jacob(x0),s)\n",
    "    firstComponent = y - substract\n",
    "    firstComponent = firstComponent.reshape((2,1))\n",
    "    s = s.reshape((2,1))\n",
    "    numerator = jnp.matmul(firstComponent, jnp.transpose(s))\n",
    "\n",
    "\n",
    "    # update jacobian\n",
    "    denomenator = jnp.dot(jnp.transpose(s),s)\n",
    "    jacobguess = jacobguess + numerator/denomenator\n",
    "    # tolerance checking\n",
    "    i += 1\n",
    "    if ((i > ittol) or (np.linalg.norm(x0-xnew, 2) < xtol) or (np.linalg.norm(f(xnew), 2) < ytol)):\n",
    "      print(i)\n",
    "      break\n",
    "    # update x\n",
    "    x0 = xnew\n",
    "    error.append(jnp.array(xnew) - jnp.array([0,1]))\n",
    "\n",
    "  return xnew, error"
   ]
  },
  {
   "cell_type": "code",
   "execution_count": null,
   "metadata": {
    "colab": {
     "base_uri": "https://localhost:8080/"
    },
    "id": "L06pwZjp13bN",
    "outputId": "2b92aea4-6264-4d85-c08e-9d99a05aad51"
   },
   "outputs": [
    {
     "name": "stdout",
     "output_type": "stream",
     "text": [
      "10\n"
     ]
    }
   ],
   "source": [
    "ans_bro, errorBrody = broyden(func, jnp.array([0.5, 1.4]), 0.0001, 0.0001, 20)"
   ]
  },
  {
   "cell_type": "code",
   "execution_count": null,
   "metadata": {
    "colab": {
     "base_uri": "https://localhost:8080/"
    },
    "id": "rIAFTlXFPOWe",
    "outputId": "9535f176-a3fa-45d2-8066-8bdcb96c0642"
   },
   "outputs": [
    {
     "data": {
      "text/plain": [
       "DeviceArray([4.210949e-05, 9.999893e-01], dtype=float32)"
      ]
     },
     "execution_count": 111,
     "metadata": {},
     "output_type": "execute_result"
    }
   ],
   "source": [
    "ans_bro"
   ]
  },
  {
   "cell_type": "code",
   "execution_count": null,
   "metadata": {
    "colab": {
     "base_uri": "https://localhost:8080/"
    },
    "id": "M3O0vodzeDtf",
    "outputId": "60e067eb-6d6d-4006-83c7-bb8d779361c9"
   },
   "outputs": [
    {
     "data": {
      "text/plain": [
       "DeviceArray([-3.5095215e-04,  3.1352043e-05], dtype=float32)"
      ]
     },
     "execution_count": 112,
     "metadata": {},
     "output_type": "execute_result"
    }
   ],
   "source": [
    "func(ans_bro)"
   ]
  },
  {
   "cell_type": "markdown",
   "metadata": {
    "id": "uhFED1VROaX0"
   },
   "source": [
    "The same system was solved using Broydens method, Broydens method does find a root but does it at another location. The a root was found at $$x_{1} = 0.0004$$ and $$x_{2} = 0.99. $$ after $10$ iterations"
   ]
  },
  {
   "cell_type": "markdown",
   "metadata": {
    "id": "d7063fe1-dab1-41d1-85e5-875a98c2f24c"
   },
   "source": [
    "## (c)\n",
    "Compare the convergence rates of the two methods by computing the error at each iteration and appropriately analysing these errors, given that the exact solution is $\\mathbf{x}^* = [ 0 \\;\\; 1 ]^T$."
   ]
  },
  {
   "cell_type": "code",
   "execution_count": null,
   "metadata": {
    "colab": {
     "base_uri": "https://localhost:8080/"
    },
    "id": "QZLbfmKXRJC1",
    "outputId": "3f9ba2a4-3e11-4268-91d0-04bb200fa9e9"
   },
   "outputs": [
    {
     "data": {
      "text/plain": [
       "[DeviceArray([-0.8104719 , -0.02183527], dtype=float32),\n",
       " DeviceArray([0.31009734, 0.30795932], dtype=float32),\n",
       " DeviceArray([-0.06700259,  0.07062578], dtype=float32),\n",
       " DeviceArray([-0.0033375 ,  0.00113678], dtype=float32)]"
      ]
     },
     "execution_count": 115,
     "metadata": {},
     "output_type": "execute_result"
    }
   ],
   "source": [
    "errorNew"
   ]
  },
  {
   "cell_type": "code",
   "execution_count": 146,
   "metadata": {
    "colab": {
     "base_uri": "https://localhost:8080/",
     "height": 326
    },
    "id": "10e04b39-1da7-4882-91a0-a649b271bfc0",
    "outputId": "9a72905f-eb72-4726-f7bf-6e79265a1b2d"
   },
   "outputs": [
    {
     "data": {
      "text/plain": [
       "Text(0, 0.5, 'Error')"
      ]
     },
     "execution_count": 146,
     "metadata": {},
     "output_type": "execute_result"
    },
    {
     "data": {
      "image/png": "[encoded data removed]",
      "text/plain": [
       "<Figure size 432x288 with 2 Axes>"
      ]
     },
     "metadata": {
      "needs_background": "light"
     },
     "output_type": "display_data"
    }
   ],
   "source": [
    "import matplotlib.pyplot as plt\n",
    "\n",
    "fig, (ax1, ax2) = plt.subplots(2, sharex=True)\n",
    "fig.suptitle('Convergence comparison')\n",
    "ax1.plot(errorNew)\n",
    "ax1.set_title(\"Newton\")\n",
    "ax2.plot(errorBrody)\n",
    "ax2.set_title(\"Broyden\")\n",
    "ax2.set_xlabel(\"iterations\")\n",
    "ax1.set_ylabel('Error')\n"
   ]
  },
  {
   "cell_type": "markdown",
   "metadata": {
    "id": "c67ed772-59bf-43fa-92c5-b99384421b61"
   },
   "source": [
    "The error at each iteration was plotted for Netwons method and Broydens method. From the plot it can be seen that Newton's method has a faster convergenge then Boryden's method. Broyden's method has a more gradual convergence towards the root."
   ]
  }
 ],
 "metadata": {
  "colab": {
   "collapsed_sections": [],
   "name": "Sebastiaan_Bye_Julius_Watenaar_homework4.ipynb",
   "provenance": []
  },
  "kernelspec": {
   "display_name": "Python 3",
   "language": "python",
   "name": "python3"
  },
  "language_info": {
   "codemirror_mode": {
    "name": "ipython",
    "version": 3
   },
   "file_extension": ".py",
   "mimetype": "text/x-python",
   "name": "python",
   "nbconvert_exporter": "python",
   "pygments_lexer": "ipython3",
   "version": "3.8.5"
  }
 },
 "nbformat": 4,
 "nbformat_minor": 5
}
