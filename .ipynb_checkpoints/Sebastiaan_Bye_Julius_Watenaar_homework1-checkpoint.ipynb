{
 "cells": [
  {
   "cell_type": "markdown",
   "metadata": {},
   "source": [
    "# Homework Set 1"
   ]
  },
  {
   "cell_type": "markdown",
   "metadata": {},
   "source": [
    "Julius Wantenaar 11339055\n",
    "Sebastiaan Bye 14084880"
   ]
  },
  {
   "cell_type": "code",
   "execution_count": 1,
   "metadata": {},
   "outputs": [],
   "source": [
    "import numpy as np\n",
    "import matplotlib.pyplot as plt\n",
    "import math"
   ]
  },
  {
   "cell_type": "markdown",
   "metadata": {},
   "source": [
    "-----\n",
    "# Exercise 1\n",
    "This exercise is a variant of exercise 1.6 in the book."
   ]
  },
  {
   "cell_type": "markdown",
   "metadata": {},
   "source": [
    "## (a) \n",
    "Lookup the Taylor series for $\\cos(x)$ in the base point $0$. (You don't have to hand in the series expansion)\n",
    "\n",
    "$\\cos(x) = 1 - \\frac{x^{2}}{2!} + \\frac{x^{4}}{4!} - \\frac{x^{6}}{6!}$ "
   ]
  },
  {
   "cell_type": "markdown",
   "metadata": {},
   "source": [
    "## (b)\n",
    "What are the forward and backward errors if we approximate $\\cos(x)$ by the first **two** nonzero terms in the Taylor series at $x = 0.2$, $x = 1.0$ and $x = 2.0$?\n",
    "\n",
    "Forward error is given by $|\\Delta y | = |\\hat{y}-y|$\n",
    "\n",
    "Backward error is given by $|\\Delta x | = |\\hat{x}-x|$ "
   ]
  },
  {
   "cell_type": "code",
   "execution_count": 2,
   "metadata": {},
   "outputs": [],
   "source": [
    "def cos2(x):\n",
    "    return 1 - x**2/math.factorial(2) + x**4/math.factorial(4)"
   ]
  },
  {
   "cell_type": "code",
   "execution_count": 3,
   "metadata": {},
   "outputs": [],
   "source": [
    "x = [0.2, 1.0, 2.0]\n",
    "data = []\n",
    "for i in x:\n",
    "    data.append([i,cos2(i)-np.cos(i), np.arccos(cos2(i))-i])"
   ]
  },
  {
   "cell_type": "code",
   "execution_count": 4,
   "metadata": {},
   "outputs": [
    {
     "name": "stdout",
     "output_type": "stream",
     "text": [
      "x     forward error             backward error           \n",
      "0.2   8.882542501531532e-08     -4.4710234142764094e-07  \n",
      "1.0   0.0013643607985268646     -0.0016222452979235413   \n",
      "2.0   0.08281350321380904       -0.0893667637509814      \n"
     ]
    }
   ],
   "source": [
    "print (\"{:<5} {:<25} {:<25}\".format('x','forward error', 'backward error'))\n",
    "\n",
    "for i in data:\n",
    "    temp1, temp2, temp3 = i\n",
    "    print (\"{:<5} {:<25} {:<25}\".format(temp1,temp2,temp3))"
   ]
  },
  {
   "cell_type": "code",
   "execution_count": 5,
   "metadata": {},
   "outputs": [],
   "source": [
    "def cos3(x):\n",
    "    return 1 - x**2/math.factorial(2) + x**4/math.factorial(4) - x**6/math.factorial(6)"
   ]
  },
  {
   "cell_type": "code",
   "execution_count": 6,
   "metadata": {},
   "outputs": [
    {
     "name": "stdout",
     "output_type": "stream",
     "text": [
      "x     forward error             backward error           \n",
      "0.2   -6.346390080125275e-11    3.194448872090305e-10    \n",
      "1.0   -2.4528090362019306e-05   2.9148789766786365e-05   \n",
      "2.0   -0.00607538567507987      0.0066917030321191895    \n"
     ]
    }
   ],
   "source": [
    "x = [0.2, 1.0, 2.0]\n",
    "data = []\n",
    "for i in x:\n",
    "    data.append([i,cos3(i)-np.cos(i), np.arccos(cos3(i))-i])\n",
    "    \n",
    "print (\"{:<5} {:<25} {:<25}\".format('x','forward error', 'backward error'))\n",
    "\n",
    "for i in data:\n",
    "    temp1, temp2, temp3 = i\n",
    "    print (\"{:<5} {:<25} {:<25}\".format(temp1,temp2,temp3))"
   ]
  },
  {
   "cell_type": "markdown",
   "metadata": {},
   "source": [
    "## (d)\n",
    "\n",
    "Compute the relative condition of $x \\mapsto \\cos (x)$ at $x = 0.2, x=1.0$ and $x=2.0$.\n",
    "\n",
    "Condtion number is given by $\\frac{x f^{'}(x)}{f(x)}$\n",
    "\n",
    "Assuming that $f(x) = 1 - \\frac{x^{2}}{2!} + \\frac{x^{4}}{4!} - \\frac{x^{6}}{6!}$, it has as derivative with respect to $x$\n",
    "\n",
    "\n",
    "$$f^{'} = - \\frac{2*x}{2!} + \\frac{4*x^{3}}{4!} - \\frac{6*x^{5}}{6!} $$"
   ]
  },
  {
   "cell_type": "code",
   "execution_count": 7,
   "metadata": {},
   "outputs": [],
   "source": [
    "def derivative(x):\n",
    "    return -2*x/math.factorial(2) + 4*x**3/math.factorial(4) - 6*x**5/math.factorial(6)"
   ]
  },
  {
   "cell_type": "code",
   "execution_count": 8,
   "metadata": {},
   "outputs": [
    {
     "name": "stdout",
     "output_type": "stream",
     "text": [
      "x     Condition                \n",
      "0.2   0.04054200762233932      \n",
      "1.0   1.557840616966581        \n",
      "2.0   4.421052631578947        \n"
     ]
    }
   ],
   "source": [
    "x = [0.2, 1.0, 2.0]\n",
    "data = []\n",
    "for i in x:\n",
    "    data.append([i, np.abs(i*derivative(i)/ cos3(i)) ])\n",
    "    \n",
    "print (\"{:<5} {:<25}\".format('x','Condition'))\n",
    "\n",
    "for i in data:\n",
    "    temp1, temp2 = i\n",
    "    print (\"{:<5} {:<25}\".format(temp1,temp2))"
   ]
  },
  {
   "cell_type": "markdown",
   "metadata": {},
   "source": [
    "-----\n",
    "# Exercise 2\n",
    "\n",
    "In this exercise we will study the numerical computation of the function \n",
    "$f(x) = \\frac{1 - \\cos(x)}{x^{2}}$.\n",
    "\n",
    "## (a)\n",
    "Write down the Taylor series for $f$. "
   ]
  },
  {
   "cell_type": "markdown",
   "metadata": {},
   "source": [
    "Taylor Series in general is $\\sum^{\\infty}_{n=0} \\frac{f^{n}(a)}{n!}(x-a)^{n}$\n",
    "\n",
    "First, let $\\cos(x) = 1 - \\frac{x^{2}}{2!} + \\frac{x^{4}}{4!} - \\frac{x^{6}}{6!}$, so that $f(x) = \\frac{1 - (1 - \\frac{x^{2}}{2!} + \\frac{x^{4}}{4!} - \\frac{x^{6}}{6!})}{x^2}$\n",
    "\n",
    "Expand the Taylor series $f(x) = \\frac{f^{0}(0)}{0!}+\\frac{f^{1}(0)}{1!}+\\frac{f^{2}(0)}{2!}$\n",
    "\n",
    "Where $$f(0) = \\lim_{x \\to 0} \\frac{1 - (1 - \\frac{x^{2}}{2!} + \\frac{x^{4}}{4!} - \\frac{x^{6}}{6!})}{x^2} = \\frac{1}{2} $$\n",
    "\n",
    "$$f^{1}(0) = \\lim_{x \\to 0} \\frac{x - \\frac{x^{3}}{6} }{x^{2}} - \\frac{2(\\frac{x^{2}}{2}-\\frac{x^{4}}{24})}{x^{3}} = 0 $$ \n",
    "\n",
    "$$f^{2}(0) = \\lim_{x \\to 0} \\frac{1 - \\frac{x^{2}}{2}}{x^{2}} - \\frac{4(x - \\frac{x^{3}}{6})}{x^{3}} - \\frac{6(\\frac{x^{2}}{2}-\\frac{x^{4}}{24})}{x^{4}} = -\\frac{1}{12}$$\n",
    "\n",
    "Thus $f(x) = \\frac{f^{0}(0)}{0!}+\\frac{f^{1}(0)}{1!}+\\frac{f^{2}(0)}{2!} = \\frac{1}{2}-\\frac{1}{24}x^{2}$"
   ]
  },
  {
   "cell_type": "markdown",
   "metadata": {},
   "source": [
    "## (b)\n",
    "Write a python function that approximates $f$ using the Taylor series. Implement a reasonable stopping criterion, so that you get an accurate result while doing more or less the minimal amount of computations. Apply your function to $x = 10^{-1}, 10^{-2}, \\ldots, 10^{-16}$. "
   ]
  },
  {
   "cell_type": "code",
   "execution_count": 9,
   "metadata": {},
   "outputs": [],
   "source": [
    "def f_taylor(x):\n",
    "    return 1/2 - (1/24)*x**2"
   ]
  },
  {
   "cell_type": "code",
   "execution_count": 10,
   "metadata": {},
   "outputs": [
    {
     "name": "stdout",
     "output_type": "stream",
     "text": [
      "0.4995833333333333\n",
      "0.4999958333333333\n",
      "0.4999999583333333\n",
      "0.49999999958333335\n",
      "0.49999999999583333\n",
      "0.4999999999999583\n",
      "0.49999999999999956\n",
      "0.5\n",
      "0.5\n",
      "0.5\n",
      "0.5\n",
      "0.5\n",
      "0.5\n",
      "0.5\n",
      "0.5\n",
      "0.5\n"
     ]
    }
   ],
   "source": [
    "taylor = []\n",
    "x = []\n",
    "\n",
    "for i in range (1,17):\n",
    "    print(f_taylor(10**-i))\n",
    "    \n",
    "    taylor.append(f_taylor(10**-i))\n",
    "    x.append(10**-i)\n",
    "    "
   ]
  },
  {
   "cell_type": "markdown",
   "metadata": {},
   "source": [
    "## (c)\n",
    "Evaluate $f(x)$ for $x = 10^{-1}, 10^{-2}, \\ldots, 10^{-16}$ using the formula that defines $f$.  Make a table of the results, together with those of (b) and also plot the results, together with those of part (b)."
   ]
  },
  {
   "cell_type": "code",
   "execution_count": 11,
   "metadata": {},
   "outputs": [],
   "source": [
    "def f(x):\n",
    "    return (1-np.cos(x))/(x**2)\n",
    "    "
   ]
  },
  {
   "cell_type": "code",
   "execution_count": 12,
   "metadata": {
    "scrolled": true
   },
   "outputs": [
    {
     "name": "stdout",
     "output_type": "stream",
     "text": [
      "0.49958347219741783\n",
      "0.4999958333473664\n",
      "0.49999995832550326\n",
      "0.4999999969612645\n",
      "0.5000000413701854\n",
      "0.5000444502911705\n",
      "0.4996003610813205\n",
      "0.0\n",
      "0.0\n",
      "0.0\n",
      "0.0\n",
      "0.0\n",
      "0.0\n",
      "0.0\n",
      "0.0\n",
      "0.0\n"
     ]
    }
   ],
   "source": [
    "f_list = []\n",
    "\n",
    "for i in range (1,17):\n",
    "    print(f(10**-i))\n",
    "    f_list.append(f(10**-i))"
   ]
  },
  {
   "cell_type": "code",
   "execution_count": 13,
   "metadata": {
    "scrolled": true
   },
   "outputs": [
    {
     "data": {
      "image/png": "[encoded data removed]",
      "text/plain": [
       "<Figure size 432x288 with 1 Axes>"
      ]
     },
     "metadata": {
      "needs_background": "light"
     },
     "output_type": "display_data"
    }
   ],
   "source": [
    "plt.loglog(x, taylor)\n",
    "plt.loglog(x, f_list)\n",
    "plt.legend([\"Taylor Series\",\"Original Function\"])\n",
    "plt.show()"
   ]
  },
  {
   "cell_type": "code",
   "execution_count": 14,
   "metadata": {
    "scrolled": true
   },
   "outputs": [
    {
     "name": "stdout",
     "output_type": "stream",
     "text": [
      "x          Taylor Series             Original Function        \n",
      "0.1        0.4995833333333333        0.49958347219741783      \n",
      "0.01       0.4999958333333333        0.4999958333473664       \n",
      "0.001      0.4999999583333333        0.49999995832550326      \n",
      "0.0001     0.49999999958333335       0.4999999969612645       \n",
      "1e-05      0.49999999999583333       0.5000000413701854       \n",
      "1e-06      0.4999999999999583        0.5000444502911705       \n",
      "1e-07      0.49999999999999956       0.4996003610813205       \n",
      "1e-08      0.5                       0.0                      \n",
      "1e-09      0.5                       0.0                      \n",
      "1e-10      0.5                       0.0                      \n",
      "1e-11      0.5                       0.0                      \n",
      "1e-12      0.5                       0.0                      \n",
      "1e-13      0.5                       0.0                      \n",
      "1e-14      0.5                       0.0                      \n",
      "1e-15      0.5                       0.0                      \n",
      "1e-16      0.5                       0.0                      \n"
     ]
    }
   ],
   "source": [
    "data = []\n",
    "for i in range(len(x)):\n",
    "    data.append([x[i], taylor[i], f_list[i]])\n",
    "    \n",
    "print (\"{:<10} {:<25} {:<25}\".format('x','Taylor Series', 'Original Function'))\n",
    "\n",
    "for i in data:\n",
    "    temp1, temp2, temp3 = i\n",
    "    print (\"{:<10} {:<25} {:<25}\".format(temp1,temp2,temp3))"
   ]
  },
  {
   "cell_type": "markdown",
   "metadata": {},
   "source": [
    "## (d)\n",
    "Discuss the differences between the result of (b) and (c). Which results do you believe are more accurate? In case you find that the results of (c) are not accurate, propose an alternative formula and redo question (c) using this new formula. \n",
    "\n",
    "The difference between the results of (b) and (c) is that after $10^{-8}$, the orginal function goes to zero whilst the Taylor series approximation goes to $0.5$. Because of this, we believe the results of the approximation to be more accurate as the when taking the limit to 0, the result is indeed $0.5$. The reason for this is because the $1/x^{2}$ blows up for small values of $x$ which creates errors.\n",
    "\n",
    "\n",
    "Recall the following trigonometric identity:\n",
    "\n",
    "$1-\\cos(x) = 2 \\sin^2(\\frac{x}{2})$\n",
    "\n",
    "Substitute into the original equation:\n",
    "\n",
    "$\\frac{2\\sin^2(\\frac{x}{2})}{x^2}$"
   ]
  },
  {
   "cell_type": "code",
   "execution_count": 15,
   "metadata": {},
   "outputs": [],
   "source": [
    "def fx(x):\n",
    "    return 2*math.sin(x/2)**2 / x**2"
   ]
  },
  {
   "cell_type": "code",
   "execution_count": 16,
   "metadata": {},
   "outputs": [
    {
     "name": "stdout",
     "output_type": "stream",
     "text": [
      "0.49958347219742333\n",
      "0.49999583334722214\n",
      "0.4999999583333347\n",
      "0.4999999995833334\n",
      "0.4999999999958333\n",
      "0.4999999999999583\n",
      "0.4999999999999996\n",
      "0.5\n",
      "0.5\n",
      "0.5\n",
      "0.5\n",
      "0.5\n",
      "0.5\n",
      "0.5\n",
      "0.5\n",
      "0.5\n"
     ]
    }
   ],
   "source": [
    "fx_list = []\n",
    "\n",
    "for i in range (1,17):\n",
    "    print(fx(10**-i))\n",
    "    fx_list.append(fx(10**-i))"
   ]
  },
  {
   "cell_type": "code",
   "execution_count": 17,
   "metadata": {},
   "outputs": [
    {
     "name": "stdout",
     "output_type": "stream",
     "text": [
      "x          Rewritten Function        Original Function        \n",
      "0.1        0.49958347219742333       0.49958347219741783      \n",
      "0.01       0.49999583334722214       0.4999958333473664       \n",
      "0.001      0.4999999583333347        0.49999995832550326      \n",
      "0.0001     0.4999999995833334        0.4999999969612645       \n",
      "1e-05      0.4999999999958333        0.5000000413701854       \n",
      "1e-06      0.4999999999999583        0.5000444502911705       \n",
      "1e-07      0.4999999999999996        0.4996003610813205       \n",
      "1e-08      0.5                       0.0                      \n",
      "1e-09      0.5                       0.0                      \n",
      "1e-10      0.5                       0.0                      \n",
      "1e-11      0.5                       0.0                      \n",
      "1e-12      0.5                       0.0                      \n",
      "1e-13      0.5                       0.0                      \n",
      "1e-14      0.5                       0.0                      \n",
      "1e-15      0.5                       0.0                      \n",
      "1e-16      0.5                       0.0                      \n"
     ]
    }
   ],
   "source": [
    "data = []\n",
    "for i in range(len(x)):\n",
    "    data.append([x[i], fx_list[i], f_list[i]])\n",
    "    \n",
    "print (\"{:<10} {:<25} {:<25}\".format('x','Rewritten Function', 'Original Function'))\n",
    "\n",
    "for i in data:\n",
    "    temp1, temp2, temp3 = i\n",
    "    print (\"{:<10} {:<25} {:<25}\".format(temp1,temp2,temp3))"
   ]
  },
  {
   "cell_type": "code",
   "execution_count": null,
   "metadata": {},
   "outputs": [],
   "source": []
  }
 ],
 "metadata": {
  "kernelspec": {
   "display_name": "Python 3",
   "language": "python",
   "name": "python3"
  },
  "language_info": {
   "codemirror_mode": {
    "name": "ipython",
    "version": 3
   },
   "file_extension": ".py",
   "mimetype": "text/x-python",
   "name": "python",
   "nbconvert_exporter": "python",
   "pygments_lexer": "ipython3",
   "version": "3.8.5"
  }
 },
 "nbformat": 4,
 "nbformat_minor": 4
}
