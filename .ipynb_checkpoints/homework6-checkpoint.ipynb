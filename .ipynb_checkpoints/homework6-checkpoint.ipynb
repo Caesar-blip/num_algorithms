{
 "cells": [
  {
   "cell_type": "markdown",
   "metadata": {},
   "source": [
    "# Exercise 1\n",
    "N.B.1 tentative points for each part are: 2+1.5+2+2+1.5 (and one point for free gives 10).\n",
    "\n",
    "N.B.2 you are to implement the methods yourself.\n",
    "\n",
    "Given a function $f$, let $T(f,a,b,m)$ denote the composite trapezoid rule with $m$ subintervals over the interval $[a,b]$. \n",
    "## (a)\n",
    "Approximate the integral of $x^{-3}$ over $[a,b] = [ \\frac{1}{10}, 100 ]$ by the composite trapezoid rule $T(f,a,b,m)$ for $m = 2^k$. Find the smallest $k$ such that the exact error is less than $\\epsilon = 10^{-3}$. Explain the slow convergence."
   ]
  },
  {
   "cell_type": "code",
   "execution_count": 19,
   "metadata": {},
   "outputs": [],
   "source": [
    "import numpy as np\n",
    "import matplotlib.pyplot as plt"
   ]
  },
  {
   "cell_type": "code",
   "execution_count": 2,
   "metadata": {},
   "outputs": [
    {
     "data": {
      "text/plain": [
       "array([  0.1,  11.2,  22.3,  33.4,  44.5,  55.6,  66.7,  77.8,  88.9,\n",
       "       100. ])"
      ]
     },
     "execution_count": 2,
     "metadata": {},
     "output_type": "execute_result"
    }
   ],
   "source": [
    "np.linspace(0.1, 100, 10)"
   ]
  },
  {
   "cell_type": "code",
   "execution_count": 77,
   "metadata": {},
   "outputs": [],
   "source": [
    "def f(x):\n",
    "    return 1/x**3"
   ]
  },
  {
   "cell_type": "code",
   "execution_count": 111,
   "metadata": {},
   "outputs": [],
   "source": [
    "# Trapisodial rule\n",
    "def T(f, a, b, m):\n",
    "    \n",
    "    subintervals = np.linspace(a,b ,m)\n",
    "    \n",
    "    T = 0\n",
    "    \n",
    "    for i in range(1, len(subintervals)):\n",
    "        T += (f(subintervals[i]) + f(subintervals[i-1]))*0.5 * (subintervals[i] - subintervals[i-1])\n",
    "    return T\n",
    "    \n",
    "    "
   ]
  },
  {
   "cell_type": "code",
   "execution_count": 102,
   "metadata": {},
   "outputs": [],
   "source": [
    "# Mid point rule\n",
    "def M(f, a, b):\n",
    "    \n",
    "    return (b-a) * f((a+b)/2)"
   ]
  },
  {
   "cell_type": "code",
   "execution_count": 126,
   "metadata": {},
   "outputs": [],
   "source": [
    "# Trap rule with error analysis\n",
    "def TM (f, a, b, m, epsilon):\n",
    "    \n",
    "    subintervals = np.linspace(a,b ,2**m)\n",
    "    T = 0\n",
    "    \n",
    "    \n",
    "    while True:    \n",
    "        for i in range(1, len(subintervals)):\n",
    "            T += (f(subintervals[i]) + f(subintervals[i-1]))*0.5 * (subintervals[i] - subintervals[i-1])\n",
    "        \n",
    "        if T - 50 < epsilon or 50 -  T > epsilon:\n",
    "            print(m)\n",
    "            break\n",
    "        else:\n",
    "            m = m + 1\n",
    "            subintervals = np.linspace(a,b , 2**m)\n",
    "            T = 0\n",
    "        \n",
    "    \n",
    "    return T\n",
    "\n"
   ]
  },
  {
   "cell_type": "code",
   "execution_count": 128,
   "metadata": {},
   "outputs": [
    {
     "name": "stdout",
     "output_type": "stream",
     "text": [
      "18\n"
     ]
    },
    {
     "data": {
      "text/plain": [
       "50.00031307166184"
      ]
     },
     "execution_count": 128,
     "metadata": {},
     "output_type": "execute_result"
    }
   ],
   "source": [
    "TM(f, 0.1, 100, 1, 0.001)"
   ]
  },
  {
   "cell_type": "markdown",
   "metadata": {},
   "source": [
    "Using the trapisodial rule, the integral converges to $50$ after $2^{18}$ loops. This is because this integral requires many subinterval around 0.01 because the derivative is larger there."
   ]
  },
  {
   "cell_type": "markdown",
   "metadata": {},
   "source": [
    "## (b)\n",
    "\n",
    "To improve the convergence rate of the above problem, we may use an adaptive strategy, as discussed in the book and the lecture. Consider the following formulas for approximate integration\n",
    "$$\\begin{aligned}\n",
    "I_1(f,a,b) = {}& T(f,a,b,1) \\\\\n",
    "I_2(f,a,b) = {}& T(f,a,b,2) .\n",
    "\\end{aligned}$$\n",
    "Show, based on the error estimates for the trapezoid rule using the Taylor series (book example 8.2, or a video) that the error in $I_2$ can be estimated by a formula of the form \n",
    "$$E_2 = C (I_1 - I_2)$$\n",
    "and determine the constant $C$ (if you can't find $C$, you may take $C = 0.5$)."
   ]
  },
  {
   "cell_type": "code",
   "execution_count": 132,
   "metadata": {},
   "outputs": [],
   "source": []
  },
  {
   "cell_type": "code",
   "execution_count": 133,
   "metadata": {},
   "outputs": [],
   "source": [
    "a = 0.1\n",
    "b = 100\n",
    "\n",
    "\n",
    "I1 = T(f, a,b , 2**1)\n",
    "I2 = T(f, a,b , 2**2)\n"
   ]
  },
  {
   "cell_type": "code",
   "execution_count": 136,
   "metadata": {},
   "outputs": [
    {
     "data": {
      "text/plain": [
       "50.050000000000004"
      ]
     },
     "execution_count": 136,
     "metadata": {},
     "output_type": "execute_result"
    }
   ],
   "source": [
    "a + (b-a)/2"
   ]
  },
  {
   "cell_type": "code",
   "execution_count": null,
   "metadata": {},
   "outputs": [],
   "source": []
  },
  {
   "cell_type": "code",
   "execution_count": 134,
   "metadata": {},
   "outputs": [
    {
     "data": {
      "text/plain": [
       "49950.000049949995"
      ]
     },
     "execution_count": 134,
     "metadata": {},
     "output_type": "execute_result"
    }
   ],
   "source": [
    "I1"
   ]
  },
  {
   "cell_type": "code",
   "execution_count": 135,
   "metadata": {},
   "outputs": [
    {
     "data": {
      "text/plain": [
       "16650.001022595992"
      ]
     },
     "execution_count": 135,
     "metadata": {},
     "output_type": "execute_result"
    }
   ],
   "source": [
    "I2"
   ]
  },
  {
   "cell_type": "markdown",
   "metadata": {},
   "source": []
  },
  {
   "cell_type": "markdown",
   "metadata": {},
   "source": [
    "## (c)\n",
    "An adaptive strategy for computing the integral on an interval $[a,b]$ now is: Compute $I_2$ and $E_2$, and accept $I_2$ as an approximation when the estimated error $E_2$ is less or equal than a desired tolerance $\\epsilon$.  Otherwise, apply the procedure to \n",
    "$\\int_a^{\\frac{b+a}{2}} f(x) \\, dx$ and $\\int_{\\frac{b+a}{2}}^b f(x) \\, dx$ with tolerances $\\frac{\\epsilon}{2}$.\n",
    "\n",
    "Write a recursive python routine that implements the adaptive strategy.\n",
    "\n",
    "Then apply this routine to the function $x^{-3}$ with $a, b, \\epsilon$ as before. What is the exact error in the obtained approximation? "
   ]
  },
  {
   "cell_type": "code",
   "execution_count": 137,
   "metadata": {},
   "outputs": [],
   "source": [
    "# Trap rule with error analysis\n",
    "def T (f, a, b, m):\n",
    "    \n",
    "    subintervals = np.linspace(a,b ,m)\n",
    "    T = 0    \n",
    "      \n",
    "    for i in range(1, len(subintervals)):\n",
    "        T += (f(subintervals[i]) + f(subintervals[i-1]))*0.5 * (subintervals[i] - subintervals[i-1])\n",
    "\n",
    "    \n",
    "    return T"
   ]
  },
  {
   "cell_type": "code",
   "execution_count": 167,
   "metadata": {},
   "outputs": [],
   "source": [
    "a = 0.1\n",
    "b = 100\n",
    "Ihat = 50"
   ]
  },
  {
   "cell_type": "code",
   "execution_count": 173,
   "metadata": {},
   "outputs": [],
   "source": [
    "def AQ(f, a, b, Ihat, epsilon):\n",
    "    \n",
    "    I1 = T(f, a,b , 2**1)\n",
    "    I2 = T(f, a,b , 2**2)\n",
    "    m = a + (b-a)/2\n",
    "    \n",
    "    if( m <= a or m >= b):\n",
    "        print(\"Warning: tolereance may not be met\")\n",
    "        return I2\n",
    "    \n",
    "    if abs((I2 - I1)) < epsilon:\n",
    "        return I2\n",
    "\n",
    "    else:        \n",
    "\n",
    "        return AQ(f, a,m , Ihat, epsilon/2) + AQ(f, m, b , Ihat, epsilon/2)\n",
    "\n"
   ]
  },
  {
   "cell_type": "code",
   "execution_count": 174,
   "metadata": {},
   "outputs": [
    {
     "data": {
      "text/plain": [
       "-33299.999027354"
      ]
     },
     "execution_count": 174,
     "metadata": {},
     "output_type": "execute_result"
    }
   ],
   "source": [
    "I2 - I1"
   ]
  },
  {
   "cell_type": "code",
   "execution_count": 175,
   "metadata": {},
   "outputs": [
    {
     "name": "stdout",
     "output_type": "stream",
     "text": [
      "49950.000049949995 16650.001022595992\n"
     ]
    }
   ],
   "source": [
    "I1 = T(f, a,b , 2**1)\n",
    "I2 = T(f, a,b , 2**2)\n",
    "print(I1, I2)"
   ]
  },
  {
   "cell_type": "code",
   "execution_count": 177,
   "metadata": {},
   "outputs": [
    {
     "data": {
      "text/plain": [
       "49.99998917226333"
      ]
     },
     "execution_count": 177,
     "metadata": {},
     "output_type": "execute_result"
    }
   ],
   "source": [
    "AQ(f, a,b, 50, 0.001)"
   ]
  },
  {
   "cell_type": "markdown",
   "metadata": {},
   "source": [
    "## (d)\n",
    "Count the number of function evaluations used in the adaptive strategy for (c) and compare with the result of (a). Make sure that your python routine performs no unnecessary function evaluations. \n",
    "(*Hint*: To count the number of function evaluations, you may use a global variable that is incremented by the function each time it is called.)"
   ]
  },
  {
   "cell_type": "code",
   "execution_count": null,
   "metadata": {},
   "outputs": [],
   "source": []
  },
  {
   "cell_type": "markdown",
   "metadata": {},
   "source": []
  },
  {
   "cell_type": "markdown",
   "metadata": {},
   "source": [
    "## (e)\n",
    "In the course of executing the recursive procedure, some subintervals are refined (split in two subintervals) while others aren't as a result of the choices made by the algorithm. It turns out that the choices made by this algorithm are not always optimal. Other algorithms, that decide in a different way which subinterval needs to be refined, may be more efficient (while using the same formulas for the approximate integral and the approximate error associated with a subinterval).\n",
    "\n",
    "Can you explain why this is the case? Discuss briefly possible alternative approaches.\n"
   ]
  },
  {
   "cell_type": "markdown",
   "metadata": {},
   "source": []
  }
 ],
 "metadata": {
  "kernelspec": {
   "display_name": "Python 3",
   "language": "python",
   "name": "python3"
  },
  "language_info": {
   "codemirror_mode": {
    "name": "ipython",
    "version": 3
   },
   "file_extension": ".py",
   "mimetype": "text/x-python",
   "name": "python",
   "nbconvert_exporter": "python",
   "pygments_lexer": "ipython3",
   "version": "3.8.5"
  }
 },
 "nbformat": 4,
 "nbformat_minor": 5
}
